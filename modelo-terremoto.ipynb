{
 "cells": [
  {
   "cell_type": "code",
   "execution_count": 83,
   "metadata": {},
   "outputs": [],
   "source": [
    "library(readxl)\n",
    "manabiAntes = read_excel(\"con-res-antes-manabi.xlsx\")\n",
    "manabiDespues = read_excel(\"con-res-desp-manabif.xlsx\")"
   ]
  },
  {
   "cell_type": "code",
   "execution_count": 84,
   "metadata": {},
   "outputs": [
    {
     "data": {
      "text/html": [
       "<table>\n",
       "<thead><tr><th scope=col>fecha</th><th scope=col>torres_activas</th><th scope=col>CantidadClientes</th><th scope=col>porc-por-dia</th><th scope=col>suma-num-por-dia</th><th scope=col>sum-por-todo</th><th scope=col>porc-por-todo</th><th scope=col>prom-por-dia</th><th scope=col>porc-prom-por-dia</th><th scope=col>ln-porc-prom-por-dia</th><th scope=col>prom-por-todo</th><th scope=col>pob-manabi-2016</th><th scope=col>factor-prom-divido-pob-manabi</th><th scope=col>ln-factor-prom-divido-pob-manabi</th><th scope=col>factor</th><th scope=col>ind.con</th><th scope=col>ind.res</th></tr></thead>\n",
       "<tbody>\n",
       "\t<tr><td>2016-04-15 00:00:00</td><td>18828              </td><td>39629              </td><td>0.02209400         </td><td>852177             </td><td>2436485            </td><td>0.007727526        </td><td>35507.38           </td><td>0.5302560          </td><td>-0.6343953         </td><td>25380.052083333332 </td><td>1510375            </td><td>0.012216463        </td><td>-4.404971          </td><td>0.57               </td><td>0.4753118          </td><td>0.012465778        </td></tr>\n",
       "\t<tr><td>2016-04-15 01:00:00</td><td>12715              </td><td>24680              </td><td>0.01492061         </td><td>    NA             </td><td>     NA            </td><td>0.005218583        </td><td>      NA           </td><td>0.3580946          </td><td>-1.0269580         </td><td>prom x todo        </td><td>     NA            </td><td>0.010233267        </td><td>-4.582111          </td><td>0.58               </td><td>0.4337416          </td><td>0.010442109        </td></tr>\n",
       "\t<tr><td>2016-04-15 02:00:00</td><td>10564              </td><td>20347              </td><td>0.01239649         </td><td>    NA             </td><td>     NA            </td><td>0.004335754        </td><td>      NA           </td><td>0.2975157          </td><td>-1.2122884         </td><td>NA                 </td><td>     NA            </td><td>0.009106979        </td><td>-4.698714          </td><td>0.59               </td><td>0.4173404          </td><td>0.009292836        </td></tr>\n",
       "\t<tr><td>2016-04-15 03:00:00</td><td>10152              </td><td>20173              </td><td>0.01191302         </td><td>    NA             </td><td>     NA            </td><td>0.004166658        </td><td>      NA           </td><td>0.2859124          </td><td>-1.2520697         </td><td>NA                 </td><td>     NA            </td><td>0.008477004        </td><td>-4.770398          </td><td>0.60               </td><td>0.4166181          </td><td>0.008650004        </td></tr>\n",
       "\t<tr><td>2016-04-15 04:00:00</td><td>10629              </td><td>20121              </td><td>0.01247276         </td><td>    NA             </td><td>     NA            </td><td>0.004362432        </td><td>      NA           </td><td>0.2993463          </td><td>-1.2061543         </td><td>NA                 </td><td>     NA            </td><td>0.008160919        </td><td>-4.808398          </td><td>0.61               </td><td>0.4164012          </td><td>0.008327468        </td></tr>\n",
       "\t<tr><td>2016-04-15 05:00:00</td><td>13349              </td><td>24179              </td><td>0.01566459         </td><td>    NA             </td><td>     NA            </td><td>0.005478794        </td><td>      NA           </td><td>0.3759501          </td><td>-0.9782989         </td><td>NA                 </td><td>     NA            </td><td>0.008244339        </td><td>-4.798229          </td><td>0.62               </td><td>0.4319843          </td><td>0.008412591        </td></tr>\n",
       "</tbody>\n",
       "</table>\n"
      ],
      "text/latex": [
       "\\begin{tabular}{r|lllllllllllllllll}\n",
       " fecha & torres\\_activas & CantidadClientes & porc-por-dia & suma-num-por-dia & sum-por-todo & porc-por-todo & prom-por-dia & porc-prom-por-dia & ln-porc-prom-por-dia & prom-por-todo & pob-manabi-2016 & factor-prom-divido-pob-manabi & ln-factor-prom-divido-pob-manabi & factor & ind.con & ind.res\\\\\n",
       "\\hline\n",
       "\t 2016-04-15 00:00:00 & 18828               & 39629               & 0.02209400          & 852177              & 2436485             & 0.007727526         & 35507.38            & 0.5302560           & -0.6343953          & 25380.052083333332  & 1510375             & 0.012216463         & -4.404971           & 0.57                & 0.4753118           & 0.012465778        \\\\\n",
       "\t 2016-04-15 01:00:00 & 12715               & 24680               & 0.01492061          &     NA              &      NA             & 0.005218583         &       NA            & 0.3580946           & -1.0269580          & prom x todo         &      NA             & 0.010233267         & -4.582111           & 0.58                & 0.4337416           & 0.010442109        \\\\\n",
       "\t 2016-04-15 02:00:00 & 10564               & 20347               & 0.01239649          &     NA              &      NA             & 0.004335754         &       NA            & 0.2975157           & -1.2122884          & NA                  &      NA             & 0.009106979         & -4.698714           & 0.59                & 0.4173404           & 0.009292836        \\\\\n",
       "\t 2016-04-15 03:00:00 & 10152               & 20173               & 0.01191302          &     NA              &      NA             & 0.004166658         &       NA            & 0.2859124           & -1.2520697          & NA                  &      NA             & 0.008477004         & -4.770398           & 0.60                & 0.4166181           & 0.008650004        \\\\\n",
       "\t 2016-04-15 04:00:00 & 10629               & 20121               & 0.01247276          &     NA              &      NA             & 0.004362432         &       NA            & 0.2993463           & -1.2061543          & NA                  &      NA             & 0.008160919         & -4.808398           & 0.61                & 0.4164012           & 0.008327468        \\\\\n",
       "\t 2016-04-15 05:00:00 & 13349               & 24179               & 0.01566459          &     NA              &      NA             & 0.005478794         &       NA            & 0.3759501           & -0.9782989          & NA                  &      NA             & 0.008244339         & -4.798229           & 0.62                & 0.4319843           & 0.008412591        \\\\\n",
       "\\end{tabular}\n"
      ],
      "text/markdown": [
       "\n",
       "fecha | torres_activas | CantidadClientes | porc-por-dia | suma-num-por-dia | sum-por-todo | porc-por-todo | prom-por-dia | porc-prom-por-dia | ln-porc-prom-por-dia | prom-por-todo | pob-manabi-2016 | factor-prom-divido-pob-manabi | ln-factor-prom-divido-pob-manabi | factor | ind.con | ind.res | \n",
       "|---|---|---|---|---|---|\n",
       "| 2016-04-15 00:00:00 | 18828               | 39629               | 0.02209400          | 852177              | 2436485             | 0.007727526         | 35507.38            | 0.5302560           | -0.6343953          | 25380.052083333332  | 1510375             | 0.012216463         | -4.404971           | 0.57                | 0.4753118           | 0.012465778         | \n",
       "| 2016-04-15 01:00:00 | 12715               | 24680               | 0.01492061          |     NA              |      NA             | 0.005218583         |       NA            | 0.3580946           | -1.0269580          | prom x todo         |      NA             | 0.010233267         | -4.582111           | 0.58                | 0.4337416           | 0.010442109         | \n",
       "| 2016-04-15 02:00:00 | 10564               | 20347               | 0.01239649          |     NA              |      NA             | 0.004335754         |       NA            | 0.2975157           | -1.2122884          | NA                  |      NA             | 0.009106979         | -4.698714           | 0.59                | 0.4173404           | 0.009292836         | \n",
       "| 2016-04-15 03:00:00 | 10152               | 20173               | 0.01191302          |     NA              |      NA             | 0.004166658         |       NA            | 0.2859124           | -1.2520697          | NA                  |      NA             | 0.008477004         | -4.770398           | 0.60                | 0.4166181           | 0.008650004         | \n",
       "| 2016-04-15 04:00:00 | 10629               | 20121               | 0.01247276          |     NA              |      NA             | 0.004362432         |       NA            | 0.2993463           | -1.2061543          | NA                  |      NA             | 0.008160919         | -4.808398           | 0.61                | 0.4164012           | 0.008327468         | \n",
       "| 2016-04-15 05:00:00 | 13349               | 24179               | 0.01566459          |     NA              |      NA             | 0.005478794         |       NA            | 0.3759501           | -0.9782989          | NA                  |      NA             | 0.008244339         | -4.798229           | 0.62                | 0.4319843           | 0.008412591         | \n",
       "\n",
       "\n"
      ],
      "text/plain": [
       "  fecha               torres_activas CantidadClientes porc-por-dia\n",
       "1 2016-04-15 00:00:00 18828          39629            0.02209400  \n",
       "2 2016-04-15 01:00:00 12715          24680            0.01492061  \n",
       "3 2016-04-15 02:00:00 10564          20347            0.01239649  \n",
       "4 2016-04-15 03:00:00 10152          20173            0.01191302  \n",
       "5 2016-04-15 04:00:00 10629          20121            0.01247276  \n",
       "6 2016-04-15 05:00:00 13349          24179            0.01566459  \n",
       "  suma-num-por-dia sum-por-todo porc-por-todo prom-por-dia porc-prom-por-dia\n",
       "1 852177           2436485      0.007727526   35507.38     0.5302560        \n",
       "2     NA                NA      0.005218583         NA     0.3580946        \n",
       "3     NA                NA      0.004335754         NA     0.2975157        \n",
       "4     NA                NA      0.004166658         NA     0.2859124        \n",
       "5     NA                NA      0.004362432         NA     0.2993463        \n",
       "6     NA                NA      0.005478794         NA     0.3759501        \n",
       "  ln-porc-prom-por-dia prom-por-todo      pob-manabi-2016\n",
       "1 -0.6343953           25380.052083333332 1510375        \n",
       "2 -1.0269580           prom x todo             NA        \n",
       "3 -1.2122884           NA                      NA        \n",
       "4 -1.2520697           NA                      NA        \n",
       "5 -1.2061543           NA                      NA        \n",
       "6 -0.9782989           NA                      NA        \n",
       "  factor-prom-divido-pob-manabi ln-factor-prom-divido-pob-manabi factor\n",
       "1 0.012216463                   -4.404971                        0.57  \n",
       "2 0.010233267                   -4.582111                        0.58  \n",
       "3 0.009106979                   -4.698714                        0.59  \n",
       "4 0.008477004                   -4.770398                        0.60  \n",
       "5 0.008160919                   -4.808398                        0.61  \n",
       "6 0.008244339                   -4.798229                        0.62  \n",
       "  ind.con   ind.res    \n",
       "1 0.4753118 0.012465778\n",
       "2 0.4337416 0.010442109\n",
       "3 0.4173404 0.009292836\n",
       "4 0.4166181 0.008650004\n",
       "5 0.4164012 0.008327468\n",
       "6 0.4319843 0.008412591"
      ]
     },
     "metadata": {},
     "output_type": "display_data"
    }
   ],
   "source": [
    "head(manabiAntes)"
   ]
  },
  {
   "cell_type": "code",
   "execution_count": 85,
   "metadata": {},
   "outputs": [
    {
     "name": "stdout",
     "output_type": "stream",
     "text": [
      "Classes 'tbl_df', 'tbl' and 'data.frame':\t96 obs. of  17 variables:\n",
      " $ fecha                           : POSIXct, format: \"2016-04-15 00:00:00\" \"2016-04-15 01:00:00\" ...\n",
      " $ torres_activas                  : num  18828 12715 10564 10152 10629 ...\n",
      " $ CantidadClientes                : num  39629 24680 20347 20173 20121 ...\n",
      " $ porc-por-dia                    : num  0.0221 0.0149 0.0124 0.0119 0.0125 ...\n",
      " $ suma-num-por-dia                : num  852177 NA NA NA NA ...\n",
      " $ sum-por-todo                    : num  2436485 NA NA NA NA ...\n",
      " $ porc-por-todo                   : num  0.00773 0.00522 0.00434 0.00417 0.00436 ...\n",
      " $ prom-por-dia                    : num  35507 NA NA NA NA ...\n",
      " $ porc-prom-por-dia               : num  0.53 0.358 0.298 0.286 0.299 ...\n",
      " $ ln-porc-prom-por-dia            : num  -0.634 -1.027 -1.212 -1.252 -1.206 ...\n",
      " $ prom-por-todo                   : chr  \"25380.052083333332\" \"prom x todo\" NA NA ...\n",
      " $ pob-manabi-2016                 : num  1510375 NA NA NA NA ...\n",
      " $ factor-prom-divido-pob-manabi   : num  0.01222 0.01023 0.00911 0.00848 0.00816 ...\n",
      " $ ln-factor-prom-divido-pob-manabi: num  -4.4 -4.58 -4.7 -4.77 -4.81 ...\n",
      " $ factor                          : num  0.57 0.58 0.59 0.6 0.61 0.62 0.63 0.64 0.65 0.66 ...\n",
      " $ ind.con                         : num  0.475 0.434 0.417 0.417 0.416 ...\n",
      " $ ind.res                         : num  0.01247 0.01044 0.00929 0.00865 0.00833 ...\n"
     ]
    }
   ],
   "source": [
    "str(manabiAntes)"
   ]
  },
  {
   "cell_type": "code",
   "execution_count": 86,
   "metadata": {},
   "outputs": [
    {
     "data": {
      "text/html": [
       "<ol class=list-inline>\n",
       "\t<li>TRUE</li>\n",
       "\t<li>TRUE</li>\n",
       "\t<li>TRUE</li>\n",
       "\t<li>TRUE</li>\n",
       "\t<li>TRUE</li>\n",
       "\t<li>TRUE</li>\n",
       "\t<li>TRUE</li>\n",
       "\t<li>TRUE</li>\n",
       "\t<li>TRUE</li>\n",
       "\t<li>TRUE</li>\n",
       "\t<li>TRUE</li>\n",
       "\t<li>TRUE</li>\n",
       "\t<li>TRUE</li>\n",
       "\t<li>TRUE</li>\n",
       "\t<li>TRUE</li>\n",
       "\t<li>TRUE</li>\n",
       "\t<li>TRUE</li>\n",
       "\t<li>TRUE</li>\n",
       "\t<li>TRUE</li>\n",
       "\t<li>TRUE</li>\n",
       "\t<li>TRUE</li>\n",
       "\t<li>TRUE</li>\n",
       "\t<li>TRUE</li>\n",
       "\t<li>TRUE</li>\n",
       "\t<li>TRUE</li>\n",
       "\t<li>TRUE</li>\n",
       "\t<li>TRUE</li>\n",
       "\t<li>TRUE</li>\n",
       "\t<li>TRUE</li>\n",
       "\t<li>TRUE</li>\n",
       "\t<li>TRUE</li>\n",
       "\t<li>TRUE</li>\n",
       "\t<li>TRUE</li>\n",
       "\t<li>TRUE</li>\n",
       "\t<li>TRUE</li>\n",
       "\t<li>TRUE</li>\n",
       "\t<li>TRUE</li>\n",
       "\t<li>TRUE</li>\n",
       "\t<li>TRUE</li>\n",
       "\t<li>TRUE</li>\n",
       "\t<li>TRUE</li>\n",
       "\t<li>TRUE</li>\n",
       "\t<li>TRUE</li>\n",
       "\t<li>TRUE</li>\n",
       "\t<li>TRUE</li>\n",
       "\t<li>TRUE</li>\n",
       "\t<li>TRUE</li>\n",
       "\t<li>TRUE</li>\n",
       "\t<li>TRUE</li>\n",
       "\t<li>TRUE</li>\n",
       "\t<li>TRUE</li>\n",
       "\t<li>TRUE</li>\n",
       "\t<li>TRUE</li>\n",
       "\t<li>TRUE</li>\n",
       "\t<li>TRUE</li>\n",
       "\t<li>TRUE</li>\n",
       "\t<li>TRUE</li>\n",
       "\t<li>TRUE</li>\n",
       "\t<li>TRUE</li>\n",
       "\t<li>TRUE</li>\n",
       "\t<li>TRUE</li>\n",
       "\t<li>TRUE</li>\n",
       "\t<li>TRUE</li>\n",
       "\t<li>TRUE</li>\n",
       "\t<li>TRUE</li>\n",
       "\t<li>TRUE</li>\n",
       "\t<li>TRUE</li>\n",
       "\t<li>TRUE</li>\n",
       "\t<li>TRUE</li>\n",
       "\t<li>TRUE</li>\n",
       "\t<li>TRUE</li>\n",
       "\t<li>TRUE</li>\n",
       "\t<li>TRUE</li>\n",
       "\t<li>TRUE</li>\n",
       "\t<li>TRUE</li>\n",
       "\t<li>TRUE</li>\n",
       "\t<li>TRUE</li>\n",
       "\t<li>TRUE</li>\n",
       "\t<li>TRUE</li>\n",
       "\t<li>TRUE</li>\n",
       "\t<li>TRUE</li>\n",
       "\t<li>TRUE</li>\n",
       "\t<li>TRUE</li>\n",
       "\t<li>TRUE</li>\n",
       "\t<li>TRUE</li>\n",
       "\t<li>TRUE</li>\n",
       "\t<li>TRUE</li>\n",
       "\t<li>TRUE</li>\n",
       "\t<li>TRUE</li>\n",
       "\t<li>TRUE</li>\n",
       "\t<li>TRUE</li>\n",
       "\t<li>TRUE</li>\n",
       "\t<li>TRUE</li>\n",
       "\t<li>TRUE</li>\n",
       "\t<li>TRUE</li>\n",
       "\t<li>TRUE</li>\n",
       "</ol>\n"
      ],
      "text/latex": [
       "\\begin{enumerate*}\n",
       "\\item TRUE\n",
       "\\item TRUE\n",
       "\\item TRUE\n",
       "\\item TRUE\n",
       "\\item TRUE\n",
       "\\item TRUE\n",
       "\\item TRUE\n",
       "\\item TRUE\n",
       "\\item TRUE\n",
       "\\item TRUE\n",
       "\\item TRUE\n",
       "\\item TRUE\n",
       "\\item TRUE\n",
       "\\item TRUE\n",
       "\\item TRUE\n",
       "\\item TRUE\n",
       "\\item TRUE\n",
       "\\item TRUE\n",
       "\\item TRUE\n",
       "\\item TRUE\n",
       "\\item TRUE\n",
       "\\item TRUE\n",
       "\\item TRUE\n",
       "\\item TRUE\n",
       "\\item TRUE\n",
       "\\item TRUE\n",
       "\\item TRUE\n",
       "\\item TRUE\n",
       "\\item TRUE\n",
       "\\item TRUE\n",
       "\\item TRUE\n",
       "\\item TRUE\n",
       "\\item TRUE\n",
       "\\item TRUE\n",
       "\\item TRUE\n",
       "\\item TRUE\n",
       "\\item TRUE\n",
       "\\item TRUE\n",
       "\\item TRUE\n",
       "\\item TRUE\n",
       "\\item TRUE\n",
       "\\item TRUE\n",
       "\\item TRUE\n",
       "\\item TRUE\n",
       "\\item TRUE\n",
       "\\item TRUE\n",
       "\\item TRUE\n",
       "\\item TRUE\n",
       "\\item TRUE\n",
       "\\item TRUE\n",
       "\\item TRUE\n",
       "\\item TRUE\n",
       "\\item TRUE\n",
       "\\item TRUE\n",
       "\\item TRUE\n",
       "\\item TRUE\n",
       "\\item TRUE\n",
       "\\item TRUE\n",
       "\\item TRUE\n",
       "\\item TRUE\n",
       "\\item TRUE\n",
       "\\item TRUE\n",
       "\\item TRUE\n",
       "\\item TRUE\n",
       "\\item TRUE\n",
       "\\item TRUE\n",
       "\\item TRUE\n",
       "\\item TRUE\n",
       "\\item TRUE\n",
       "\\item TRUE\n",
       "\\item TRUE\n",
       "\\item TRUE\n",
       "\\item TRUE\n",
       "\\item TRUE\n",
       "\\item TRUE\n",
       "\\item TRUE\n",
       "\\item TRUE\n",
       "\\item TRUE\n",
       "\\item TRUE\n",
       "\\item TRUE\n",
       "\\item TRUE\n",
       "\\item TRUE\n",
       "\\item TRUE\n",
       "\\item TRUE\n",
       "\\item TRUE\n",
       "\\item TRUE\n",
       "\\item TRUE\n",
       "\\item TRUE\n",
       "\\item TRUE\n",
       "\\item TRUE\n",
       "\\item TRUE\n",
       "\\item TRUE\n",
       "\\item TRUE\n",
       "\\item TRUE\n",
       "\\item TRUE\n",
       "\\item TRUE\n",
       "\\end{enumerate*}\n"
      ],
      "text/markdown": [
       "1. TRUE\n",
       "2. TRUE\n",
       "3. TRUE\n",
       "4. TRUE\n",
       "5. TRUE\n",
       "6. TRUE\n",
       "7. TRUE\n",
       "8. TRUE\n",
       "9. TRUE\n",
       "10. TRUE\n",
       "11. TRUE\n",
       "12. TRUE\n",
       "13. TRUE\n",
       "14. TRUE\n",
       "15. TRUE\n",
       "16. TRUE\n",
       "17. TRUE\n",
       "18. TRUE\n",
       "19. TRUE\n",
       "20. TRUE\n",
       "21. TRUE\n",
       "22. TRUE\n",
       "23. TRUE\n",
       "24. TRUE\n",
       "25. TRUE\n",
       "26. TRUE\n",
       "27. TRUE\n",
       "28. TRUE\n",
       "29. TRUE\n",
       "30. TRUE\n",
       "31. TRUE\n",
       "32. TRUE\n",
       "33. TRUE\n",
       "34. TRUE\n",
       "35. TRUE\n",
       "36. TRUE\n",
       "37. TRUE\n",
       "38. TRUE\n",
       "39. TRUE\n",
       "40. TRUE\n",
       "41. TRUE\n",
       "42. TRUE\n",
       "43. TRUE\n",
       "44. TRUE\n",
       "45. TRUE\n",
       "46. TRUE\n",
       "47. TRUE\n",
       "48. TRUE\n",
       "49. TRUE\n",
       "50. TRUE\n",
       "51. TRUE\n",
       "52. TRUE\n",
       "53. TRUE\n",
       "54. TRUE\n",
       "55. TRUE\n",
       "56. TRUE\n",
       "57. TRUE\n",
       "58. TRUE\n",
       "59. TRUE\n",
       "60. TRUE\n",
       "61. TRUE\n",
       "62. TRUE\n",
       "63. TRUE\n",
       "64. TRUE\n",
       "65. TRUE\n",
       "66. TRUE\n",
       "67. TRUE\n",
       "68. TRUE\n",
       "69. TRUE\n",
       "70. TRUE\n",
       "71. TRUE\n",
       "72. TRUE\n",
       "73. TRUE\n",
       "74. TRUE\n",
       "75. TRUE\n",
       "76. TRUE\n",
       "77. TRUE\n",
       "78. TRUE\n",
       "79. TRUE\n",
       "80. TRUE\n",
       "81. TRUE\n",
       "82. TRUE\n",
       "83. TRUE\n",
       "84. TRUE\n",
       "85. TRUE\n",
       "86. TRUE\n",
       "87. TRUE\n",
       "88. TRUE\n",
       "89. TRUE\n",
       "90. TRUE\n",
       "91. TRUE\n",
       "92. TRUE\n",
       "93. TRUE\n",
       "94. TRUE\n",
       "95. TRUE\n",
       "96. TRUE\n",
       "\n",
       "\n"
      ],
      "text/plain": [
       " [1] TRUE TRUE TRUE TRUE TRUE TRUE TRUE TRUE TRUE TRUE TRUE TRUE TRUE TRUE TRUE\n",
       "[16] TRUE TRUE TRUE TRUE TRUE TRUE TRUE TRUE TRUE TRUE TRUE TRUE TRUE TRUE TRUE\n",
       "[31] TRUE TRUE TRUE TRUE TRUE TRUE TRUE TRUE TRUE TRUE TRUE TRUE TRUE TRUE TRUE\n",
       "[46] TRUE TRUE TRUE TRUE TRUE TRUE TRUE TRUE TRUE TRUE TRUE TRUE TRUE TRUE TRUE\n",
       "[61] TRUE TRUE TRUE TRUE TRUE TRUE TRUE TRUE TRUE TRUE TRUE TRUE TRUE TRUE TRUE\n",
       "[76] TRUE TRUE TRUE TRUE TRUE TRUE TRUE TRUE TRUE TRUE TRUE TRUE TRUE TRUE TRUE\n",
       "[91] TRUE TRUE TRUE TRUE TRUE TRUE"
      ]
     },
     "metadata": {},
     "output_type": "display_data"
    }
   ],
   "source": [
    "manabiAntes$fecha> as.POSIXlt(\"2008-01-01 02:30\")"
   ]
  },
  {
   "cell_type": "code",
   "execution_count": 87,
   "metadata": {},
   "outputs": [
    {
     "data": {
      "image/png": "[encoded data removed]",
      "text/plain": [
       "plot without title"
      ]
     },
     "metadata": {},
     "output_type": "display_data"
    }
   ],
   "source": [
    "par(mfrow=c(1, 2))\n",
    "plot.ts(manabiAntes$ind.res)\n",
    "plot.ts(manabiAntes$ind.con)\n"
   ]
  },
  {
   "cell_type": "code",
   "execution_count": 88,
   "metadata": {},
   "outputs": [
    {
     "data": {
      "image/png": "[encoded data removed]",
      "text/plain": [
       "plot without title"
      ]
     },
     "metadata": {},
     "output_type": "display_data"
    }
   ],
   "source": [
    "par(mfrow=c(1, 2))\n",
    "plot.ts(manabiDespues$ind.res)\n",
    "plot.ts(manabiDespues$ind.con)"
   ]
  },
  {
   "cell_type": "code",
   "execution_count": 89,
   "metadata": {},
   "outputs": [],
   "source": [
    "# creo variable para cada hora del dia\n",
    "manabiDespues$estacionalidad = rep(seq(1, 24), times = 3)"
   ]
  },
  {
   "cell_type": "code",
   "execution_count": 90,
   "metadata": {},
   "outputs": [
    {
     "data": {
      "text/html": [
       "<table>\n",
       "<thead><tr><th scope=col>fecha</th><th scope=col>torre_act</th><th scope=col>CantidadClientes</th><th scope=col>pob.manabi.2016</th><th scope=col>ind.res</th><th scope=col>ind.con</th><th scope=col>prom-.client</th><th scope=col>estacionalidad</th></tr></thead>\n",
       "<tbody>\n",
       "\t<tr><td>2016-07-15 00:00:00</td><td>17399              </td><td>33214              </td><td>1510375            </td><td>0.6862706          </td><td>0.4060311          </td><td>81801.62           </td><td>1                  </td></tr>\n",
       "\t<tr><td>2016-07-15 01:00:00</td><td>14130              </td><td>26726              </td><td>     NA            </td><td>0.6793369          </td><td>0.3267172          </td><td>      NA           </td><td>2                  </td></tr>\n",
       "\t<tr><td>2016-07-15 02:00:00</td><td>12759              </td><td>24267              </td><td>     NA            </td><td>0.6747221          </td><td>0.2966567          </td><td>      NA           </td><td>3                  </td></tr>\n",
       "\t<tr><td>2016-07-15 03:00:00</td><td>12502              </td><td>23674              </td><td>     NA            </td><td>0.6719785          </td><td>0.2894075          </td><td>      NA           </td><td>4                  </td></tr>\n",
       "\t<tr><td>2016-07-15 04:00:00</td><td>13224              </td><td>24497              </td><td>     NA            </td><td>0.6710079          </td><td>0.2994684          </td><td>      NA           </td><td>5                  </td></tr>\n",
       "\t<tr><td>2016-07-15 05:00:00</td><td>16581              </td><td>30806              </td><td>     NA            </td><td>0.6731323          </td><td>0.3765940          </td><td>      NA           </td><td>6                  </td></tr>\n",
       "</tbody>\n",
       "</table>\n"
      ],
      "text/latex": [
       "\\begin{tabular}{r|llllllll}\n",
       " fecha & torre\\_act & CantidadClientes & pob.manabi.2016 & ind.res & ind.con & prom-.client & estacionalidad\\\\\n",
       "\\hline\n",
       "\t 2016-07-15 00:00:00 & 17399               & 33214               & 1510375             & 0.6862706           & 0.4060311           & 81801.62            & 1                  \\\\\n",
       "\t 2016-07-15 01:00:00 & 14130               & 26726               &      NA             & 0.6793369           & 0.3267172           &       NA            & 2                  \\\\\n",
       "\t 2016-07-15 02:00:00 & 12759               & 24267               &      NA             & 0.6747221           & 0.2966567           &       NA            & 3                  \\\\\n",
       "\t 2016-07-15 03:00:00 & 12502               & 23674               &      NA             & 0.6719785           & 0.2894075           &       NA            & 4                  \\\\\n",
       "\t 2016-07-15 04:00:00 & 13224               & 24497               &      NA             & 0.6710079           & 0.2994684           &       NA            & 5                  \\\\\n",
       "\t 2016-07-15 05:00:00 & 16581               & 30806               &      NA             & 0.6731323           & 0.3765940           &       NA            & 6                  \\\\\n",
       "\\end{tabular}\n"
      ],
      "text/markdown": [
       "\n",
       "fecha | torre_act | CantidadClientes | pob.manabi.2016 | ind.res | ind.con | prom-.client | estacionalidad | \n",
       "|---|---|---|---|---|---|\n",
       "| 2016-07-15 00:00:00 | 17399               | 33214               | 1510375             | 0.6862706           | 0.4060311           | 81801.62            | 1                   | \n",
       "| 2016-07-15 01:00:00 | 14130               | 26726               |      NA             | 0.6793369           | 0.3267172           |       NA            | 2                   | \n",
       "| 2016-07-15 02:00:00 | 12759               | 24267               |      NA             | 0.6747221           | 0.2966567           |       NA            | 3                   | \n",
       "| 2016-07-15 03:00:00 | 12502               | 23674               |      NA             | 0.6719785           | 0.2894075           |       NA            | 4                   | \n",
       "| 2016-07-15 04:00:00 | 13224               | 24497               |      NA             | 0.6710079           | 0.2994684           |       NA            | 5                   | \n",
       "| 2016-07-15 05:00:00 | 16581               | 30806               |      NA             | 0.6731323           | 0.3765940           |       NA            | 6                   | \n",
       "\n",
       "\n"
      ],
      "text/plain": [
       "  fecha               torre_act CantidadClientes pob.manabi.2016 ind.res  \n",
       "1 2016-07-15 00:00:00 17399     33214            1510375         0.6862706\n",
       "2 2016-07-15 01:00:00 14130     26726                 NA         0.6793369\n",
       "3 2016-07-15 02:00:00 12759     24267                 NA         0.6747221\n",
       "4 2016-07-15 03:00:00 12502     23674                 NA         0.6719785\n",
       "5 2016-07-15 04:00:00 13224     24497                 NA         0.6710079\n",
       "6 2016-07-15 05:00:00 16581     30806                 NA         0.6731323\n",
       "  ind.con   prom-.client estacionalidad\n",
       "1 0.4060311 81801.62     1             \n",
       "2 0.3267172       NA     2             \n",
       "3 0.2966567       NA     3             \n",
       "4 0.2894075       NA     4             \n",
       "5 0.2994684       NA     5             \n",
       "6 0.3765940       NA     6             "
      ]
     },
     "metadata": {},
     "output_type": "display_data"
    }
   ],
   "source": [
    "head(manabiDespues)"
   ]
  },
  {
   "cell_type": "code",
   "execution_count": 91,
   "metadata": {},
   "outputs": [],
   "source": [
    "library(dummies)\n",
    "manabiDespues$estacionalidadh = rep(seq(1, 24), times = 3)\n",
    "manabiDespues <- dummy.data.frame (as.data.frame(manabiDespues), names = c (\"estacionalidadh\"), sep = \"_\")"
   ]
  },
  {
   "cell_type": "code",
   "execution_count": 92,
   "metadata": {},
   "outputs": [
    {
     "data": {
      "text/html": [
       "<table>\n",
       "<thead><tr><th scope=col>fecha</th><th scope=col>torre_act</th><th scope=col>CantidadClientes</th><th scope=col>pob.manabi.2016</th><th scope=col>ind.res</th><th scope=col>ind.con</th><th scope=col>prom-.client</th><th scope=col>estacionalidad</th><th scope=col>estacionalidadh_1</th><th scope=col>estacionalidadh_2</th><th scope=col>...</th><th scope=col>estacionalidadh_15</th><th scope=col>estacionalidadh_16</th><th scope=col>estacionalidadh_17</th><th scope=col>estacionalidadh_18</th><th scope=col>estacionalidadh_19</th><th scope=col>estacionalidadh_20</th><th scope=col>estacionalidadh_21</th><th scope=col>estacionalidadh_22</th><th scope=col>estacionalidadh_23</th><th scope=col>estacionalidadh_24</th></tr></thead>\n",
       "<tbody>\n",
       "\t<tr><td>2016-07-15 00:00:00</td><td>17399              </td><td>33214              </td><td>1510375            </td><td>0.6862706          </td><td>0.4060311          </td><td>81801.62           </td><td>1                  </td><td>1                  </td><td>0                  </td><td>...                </td><td>0                  </td><td>0                  </td><td>0                  </td><td>0                  </td><td>0                  </td><td>0                  </td><td>0                  </td><td>0                  </td><td>0                  </td><td>0                  </td></tr>\n",
       "\t<tr><td>2016-07-15 01:00:00</td><td>14130              </td><td>26726              </td><td>     NA            </td><td>0.6793369          </td><td>0.3267172          </td><td>      NA           </td><td>2                  </td><td>0                  </td><td>1                  </td><td>...                </td><td>0                  </td><td>0                  </td><td>0                  </td><td>0                  </td><td>0                  </td><td>0                  </td><td>0                  </td><td>0                  </td><td>0                  </td><td>0                  </td></tr>\n",
       "\t<tr><td>2016-07-15 02:00:00</td><td>12759              </td><td>24267              </td><td>     NA            </td><td>0.6747221          </td><td>0.2966567          </td><td>      NA           </td><td>3                  </td><td>0                  </td><td>0                  </td><td>...                </td><td>0                  </td><td>0                  </td><td>0                  </td><td>0                  </td><td>0                  </td><td>0                  </td><td>0                  </td><td>0                  </td><td>0                  </td><td>0                  </td></tr>\n",
       "\t<tr><td>2016-07-15 03:00:00</td><td>12502              </td><td>23674              </td><td>     NA            </td><td>0.6719785          </td><td>0.2894075          </td><td>      NA           </td><td>4                  </td><td>0                  </td><td>0                  </td><td>...                </td><td>0                  </td><td>0                  </td><td>0                  </td><td>0                  </td><td>0                  </td><td>0                  </td><td>0                  </td><td>0                  </td><td>0                  </td><td>0                  </td></tr>\n",
       "\t<tr><td>2016-07-15 04:00:00</td><td>13224              </td><td>24497              </td><td>     NA            </td><td>0.6710079          </td><td>0.2994684          </td><td>      NA           </td><td>5                  </td><td>0                  </td><td>0                  </td><td>...                </td><td>0                  </td><td>0                  </td><td>0                  </td><td>0                  </td><td>0                  </td><td>0                  </td><td>0                  </td><td>0                  </td><td>0                  </td><td>0                  </td></tr>\n",
       "\t<tr><td>2016-07-15 05:00:00</td><td>16581              </td><td>30806              </td><td>     NA            </td><td>0.6731323          </td><td>0.3765940          </td><td>      NA           </td><td>6                  </td><td>0                  </td><td>0                  </td><td>...                </td><td>0                  </td><td>0                  </td><td>0                  </td><td>0                  </td><td>0                  </td><td>0                  </td><td>0                  </td><td>0                  </td><td>0                  </td><td>0                  </td></tr>\n",
       "</tbody>\n",
       "</table>\n"
      ],
      "text/latex": [
       "\\begin{tabular}{r|llllllllllllllllllllllllllllllll}\n",
       " fecha & torre\\_act & CantidadClientes & pob.manabi.2016 & ind.res & ind.con & prom-.client & estacionalidad & estacionalidadh\\_1 & estacionalidadh\\_2 & ... & estacionalidadh\\_15 & estacionalidadh\\_16 & estacionalidadh\\_17 & estacionalidadh\\_18 & estacionalidadh\\_19 & estacionalidadh\\_20 & estacionalidadh\\_21 & estacionalidadh\\_22 & estacionalidadh\\_23 & estacionalidadh\\_24\\\\\n",
       "\\hline\n",
       "\t 2016-07-15 00:00:00 & 17399               & 33214               & 1510375             & 0.6862706           & 0.4060311           & 81801.62            & 1                   & 1                   & 0                   & ...                 & 0                   & 0                   & 0                   & 0                   & 0                   & 0                   & 0                   & 0                   & 0                   & 0                  \\\\\n",
       "\t 2016-07-15 01:00:00 & 14130               & 26726               &      NA             & 0.6793369           & 0.3267172           &       NA            & 2                   & 0                   & 1                   & ...                 & 0                   & 0                   & 0                   & 0                   & 0                   & 0                   & 0                   & 0                   & 0                   & 0                  \\\\\n",
       "\t 2016-07-15 02:00:00 & 12759               & 24267               &      NA             & 0.6747221           & 0.2966567           &       NA            & 3                   & 0                   & 0                   & ...                 & 0                   & 0                   & 0                   & 0                   & 0                   & 0                   & 0                   & 0                   & 0                   & 0                  \\\\\n",
       "\t 2016-07-15 03:00:00 & 12502               & 23674               &      NA             & 0.6719785           & 0.2894075           &       NA            & 4                   & 0                   & 0                   & ...                 & 0                   & 0                   & 0                   & 0                   & 0                   & 0                   & 0                   & 0                   & 0                   & 0                  \\\\\n",
       "\t 2016-07-15 04:00:00 & 13224               & 24497               &      NA             & 0.6710079           & 0.2994684           &       NA            & 5                   & 0                   & 0                   & ...                 & 0                   & 0                   & 0                   & 0                   & 0                   & 0                   & 0                   & 0                   & 0                   & 0                  \\\\\n",
       "\t 2016-07-15 05:00:00 & 16581               & 30806               &      NA             & 0.6731323           & 0.3765940           &       NA            & 6                   & 0                   & 0                   & ...                 & 0                   & 0                   & 0                   & 0                   & 0                   & 0                   & 0                   & 0                   & 0                   & 0                  \\\\\n",
       "\\end{tabular}\n"
      ],
      "text/markdown": [
       "\n",
       "fecha | torre_act | CantidadClientes | pob.manabi.2016 | ind.res | ind.con | prom-.client | estacionalidad | estacionalidadh_1 | estacionalidadh_2 | ... | estacionalidadh_15 | estacionalidadh_16 | estacionalidadh_17 | estacionalidadh_18 | estacionalidadh_19 | estacionalidadh_20 | estacionalidadh_21 | estacionalidadh_22 | estacionalidadh_23 | estacionalidadh_24 | \n",
       "|---|---|---|---|---|---|\n",
       "| 2016-07-15 00:00:00 | 17399               | 33214               | 1510375             | 0.6862706           | 0.4060311           | 81801.62            | 1                   | 1                   | 0                   | ...                 | 0                   | 0                   | 0                   | 0                   | 0                   | 0                   | 0                   | 0                   | 0                   | 0                   | \n",
       "| 2016-07-15 01:00:00 | 14130               | 26726               |      NA             | 0.6793369           | 0.3267172           |       NA            | 2                   | 0                   | 1                   | ...                 | 0                   | 0                   | 0                   | 0                   | 0                   | 0                   | 0                   | 0                   | 0                   | 0                   | \n",
       "| 2016-07-15 02:00:00 | 12759               | 24267               |      NA             | 0.6747221           | 0.2966567           |       NA            | 3                   | 0                   | 0                   | ...                 | 0                   | 0                   | 0                   | 0                   | 0                   | 0                   | 0                   | 0                   | 0                   | 0                   | \n",
       "| 2016-07-15 03:00:00 | 12502               | 23674               |      NA             | 0.6719785           | 0.2894075           |       NA            | 4                   | 0                   | 0                   | ...                 | 0                   | 0                   | 0                   | 0                   | 0                   | 0                   | 0                   | 0                   | 0                   | 0                   | \n",
       "| 2016-07-15 04:00:00 | 13224               | 24497               |      NA             | 0.6710079           | 0.2994684           |       NA            | 5                   | 0                   | 0                   | ...                 | 0                   | 0                   | 0                   | 0                   | 0                   | 0                   | 0                   | 0                   | 0                   | 0                   | \n",
       "| 2016-07-15 05:00:00 | 16581               | 30806               |      NA             | 0.6731323           | 0.3765940           |       NA            | 6                   | 0                   | 0                   | ...                 | 0                   | 0                   | 0                   | 0                   | 0                   | 0                   | 0                   | 0                   | 0                   | 0                   | \n",
       "\n",
       "\n"
      ],
      "text/plain": [
       "  fecha               torre_act CantidadClientes pob.manabi.2016 ind.res  \n",
       "1 2016-07-15 00:00:00 17399     33214            1510375         0.6862706\n",
       "2 2016-07-15 01:00:00 14130     26726                 NA         0.6793369\n",
       "3 2016-07-15 02:00:00 12759     24267                 NA         0.6747221\n",
       "4 2016-07-15 03:00:00 12502     23674                 NA         0.6719785\n",
       "5 2016-07-15 04:00:00 13224     24497                 NA         0.6710079\n",
       "6 2016-07-15 05:00:00 16581     30806                 NA         0.6731323\n",
       "  ind.con   prom-.client estacionalidad estacionalidadh_1 estacionalidadh_2 ...\n",
       "1 0.4060311 81801.62     1              1                 0                 ...\n",
       "2 0.3267172       NA     2              0                 1                 ...\n",
       "3 0.2966567       NA     3              0                 0                 ...\n",
       "4 0.2894075       NA     4              0                 0                 ...\n",
       "5 0.2994684       NA     5              0                 0                 ...\n",
       "6 0.3765940       NA     6              0                 0                 ...\n",
       "  estacionalidadh_15 estacionalidadh_16 estacionalidadh_17 estacionalidadh_18\n",
       "1 0                  0                  0                  0                 \n",
       "2 0                  0                  0                  0                 \n",
       "3 0                  0                  0                  0                 \n",
       "4 0                  0                  0                  0                 \n",
       "5 0                  0                  0                  0                 \n",
       "6 0                  0                  0                  0                 \n",
       "  estacionalidadh_19 estacionalidadh_20 estacionalidadh_21 estacionalidadh_22\n",
       "1 0                  0                  0                  0                 \n",
       "2 0                  0                  0                  0                 \n",
       "3 0                  0                  0                  0                 \n",
       "4 0                  0                  0                  0                 \n",
       "5 0                  0                  0                  0                 \n",
       "6 0                  0                  0                  0                 \n",
       "  estacionalidadh_23 estacionalidadh_24\n",
       "1 0                  0                 \n",
       "2 0                  0                 \n",
       "3 0                  0                 \n",
       "4 0                  0                 \n",
       "5 0                  0                 \n",
       "6 0                  0                 "
      ]
     },
     "metadata": {},
     "output_type": "display_data"
    }
   ],
   "source": [
    "head(manabiDespues)"
   ]
  },
  {
   "cell_type": "code",
   "execution_count": 93,
   "metadata": {},
   "outputs": [],
   "source": [
    "myvars <- names(manabiDespues) %in% c(\"fecha\",\"torre_act\",\"CantidadClientes\",\"pob.manabi.2016\",\"ind.res\",\"estacionalidad\",\n",
    "                                      \"prom-.client\")\n",
    "dataIndCon = manabiDespues[!myvars]"
   ]
  },
  {
   "cell_type": "code",
   "execution_count": 94,
   "metadata": {},
   "outputs": [],
   "source": [
    "modeloEliminoEstacionalidad =lm(ind.con~estacionalidadh_1+estacionalidadh_2+estacionalidadh_3+estacionalidadh_4+estacionalidadh_5+estacionalidadh_6+\n",
    "  estacionalidadh_7+estacionalidadh_8+estacionalidadh_9+estacionalidadh_10+estacionalidadh_11+estacionalidadh_12+\n",
    "  estacionalidadh_13+ estacionalidadh_14+estacionalidadh_15+estacionalidadh_16+estacionalidadh_17+estacionalidadh_18+\n",
    "  estacionalidadh_19+estacionalidadh_20+estacionalidadh_21+estacionalidadh_22+estacionalidadh_23, \n",
    "   data =dataIndCon )"
   ]
  },
  {
   "cell_type": "code",
   "execution_count": 95,
   "metadata": {},
   "outputs": [
    {
     "data": {
      "text/plain": [
       "\n",
       "Call:\n",
       "lm(formula = ind.con ~ estacionalidadh_1 + estacionalidadh_2 + \n",
       "    estacionalidadh_3 + estacionalidadh_4 + estacionalidadh_5 + \n",
       "    estacionalidadh_6 + estacionalidadh_7 + estacionalidadh_8 + \n",
       "    estacionalidadh_9 + estacionalidadh_10 + estacionalidadh_11 + \n",
       "    estacionalidadh_12 + estacionalidadh_13 + estacionalidadh_14 + \n",
       "    estacionalidadh_15 + estacionalidadh_16 + estacionalidadh_17 + \n",
       "    estacionalidadh_18 + estacionalidadh_19 + estacionalidadh_20 + \n",
       "    estacionalidadh_21 + estacionalidadh_22 + estacionalidadh_23, \n",
       "    data = dataIndCon)\n",
       "\n",
       "Residuals:\n",
       "      Min        1Q    Median        3Q       Max \n",
       "-0.147864 -0.035579  0.000171  0.038774  0.149745 \n",
       "\n",
       "Coefficients:\n",
       "                   Estimate Std. Error t value Pr(>|t|)    \n",
       "(Intercept)         0.67496    0.04569  14.773  < 2e-16 ***\n",
       "estacionalidadh_1  -0.14420    0.06461  -2.232 0.030330 *  \n",
       "estacionalidadh_2  -0.24738    0.06461  -3.829 0.000373 ***\n",
       "estacionalidadh_3  -0.29283    0.06461  -4.532 3.89e-05 ***\n",
       "estacionalidadh_4  -0.32839    0.06461  -5.082 6.08e-06 ***\n",
       "estacionalidadh_5  -0.33556    0.06461  -5.193 4.16e-06 ***\n",
       "estacionalidadh_6  -0.29317    0.06461  -4.537 3.82e-05 ***\n",
       "estacionalidadh_7  -0.07203    0.06461  -1.115 0.270505    \n",
       "estacionalidadh_8   0.21839    0.06461   3.380 0.001448 ** \n",
       "estacionalidadh_9   0.44859    0.06461   6.943 9.00e-09 ***\n",
       "estacionalidadh_10  0.63909    0.06461   9.891 3.62e-13 ***\n",
       "estacionalidadh_11  0.73659    0.06461  11.400 2.93e-15 ***\n",
       "estacionalidadh_12  0.76110    0.06461  11.779 9.12e-16 ***\n",
       "estacionalidadh_13  0.72469    0.06461  11.216 5.19e-15 ***\n",
       "estacionalidadh_14  0.66740    0.06461  10.329 8.68e-14 ***\n",
       "estacionalidadh_15  0.65804    0.06461  10.184 1.39e-13 ***\n",
       "estacionalidadh_16  0.68538    0.06461  10.607 3.55e-14 ***\n",
       "estacionalidadh_17  0.70264    0.06461  10.875 1.52e-14 ***\n",
       "estacionalidadh_18  0.72217    0.06461  11.177 5.86e-15 ***\n",
       "estacionalidadh_19  0.73412    0.06461  11.362 3.29e-15 ***\n",
       "estacionalidadh_20  0.67701    0.06461  10.478 5.37e-14 ***\n",
       "estacionalidadh_21  0.55509    0.06461   8.591 2.86e-11 ***\n",
       "estacionalidadh_22  0.38504    0.06461   5.959 2.89e-07 ***\n",
       "estacionalidadh_23  0.19916    0.06461   3.082 0.003399 ** \n",
       "---\n",
       "Signif. codes:  0 '***' 0.001 '**' 0.01 '*' 0.05 '.' 0.1 ' ' 1\n",
       "\n",
       "Residual standard error: 0.07913 on 48 degrees of freedom\n",
       "Multiple R-squared:  0.9762,\tAdjusted R-squared:  0.9648 \n",
       "F-statistic:  85.5 on 23 and 48 DF,  p-value: < 2.2e-16\n"
      ]
     },
     "metadata": {},
     "output_type": "display_data"
    }
   ],
   "source": [
    "summary(modeloEliminoEstacionalidad)"
   ]
  },
  {
   "cell_type": "code",
   "execution_count": 96,
   "metadata": {},
   "outputs": [],
   "source": [
    "prediccionSinEstac = fitted(modeloEliminoEstacionalidad)\n",
    "residuosSinEstac = residuals(modeloEliminoEstacionalidad)"
   ]
  },
  {
   "cell_type": "code",
   "execution_count": 97,
   "metadata": {},
   "outputs": [
    {
     "data": {
      "image/png": "[encoded data removed]",
      "text/plain": [
       "plot without title"
      ]
     },
     "metadata": {},
     "output_type": "display_data"
    }
   ],
   "source": [
    "par(mfrow=c(1, 2))\n",
    "plot.ts(prediccionSinEstac)\n",
    "plot.ts(residuosSinEstac)"
   ]
  },
  {
   "cell_type": "code",
   "execution_count": 98,
   "metadata": {},
   "outputs": [],
   "source": [
    "dataIndCon$tend = as.numeric(seq(1:nrow(dataIndCon)))"
   ]
  },
  {
   "cell_type": "code",
   "execution_count": 99,
   "metadata": {},
   "outputs": [],
   "source": [
    "modeloEliminoEstacionalidadTend =lm(ind.con~estacionalidadh_1+estacionalidadh_2+estacionalidadh_3+estacionalidadh_4+estacionalidadh_5+estacionalidadh_6+\n",
    "  estacionalidadh_7+estacionalidadh_8+estacionalidadh_9+estacionalidadh_10+estacionalidadh_11+estacionalidadh_12+\n",
    "  estacionalidadh_13+ estacionalidadh_14+estacionalidadh_15+estacionalidadh_16+estacionalidadh_17+estacionalidadh_18+\n",
    "  estacionalidadh_19+estacionalidadh_20+estacionalidadh_21+estacionalidadh_22+estacionalidadh_23, data =dataIndCon )"
   ]
  },
  {
   "cell_type": "code",
   "execution_count": 100,
   "metadata": {},
   "outputs": [
    {
     "data": {
      "text/plain": [
       "\n",
       "Call:\n",
       "lm(formula = ind.con ~ estacionalidadh_1 + estacionalidadh_2 + \n",
       "    estacionalidadh_3 + estacionalidadh_4 + estacionalidadh_5 + \n",
       "    estacionalidadh_6 + estacionalidadh_7 + estacionalidadh_8 + \n",
       "    estacionalidadh_9 + estacionalidadh_10 + estacionalidadh_11 + \n",
       "    estacionalidadh_12 + estacionalidadh_13 + estacionalidadh_14 + \n",
       "    estacionalidadh_15 + estacionalidadh_16 + estacionalidadh_17 + \n",
       "    estacionalidadh_18 + estacionalidadh_19 + estacionalidadh_20 + \n",
       "    estacionalidadh_21 + estacionalidadh_22 + estacionalidadh_23, \n",
       "    data = dataIndCon)\n",
       "\n",
       "Residuals:\n",
       "      Min        1Q    Median        3Q       Max \n",
       "-0.147864 -0.035579  0.000171  0.038774  0.149745 \n",
       "\n",
       "Coefficients:\n",
       "                   Estimate Std. Error t value Pr(>|t|)    \n",
       "(Intercept)         0.67496    0.04569  14.773  < 2e-16 ***\n",
       "estacionalidadh_1  -0.14420    0.06461  -2.232 0.030330 *  \n",
       "estacionalidadh_2  -0.24738    0.06461  -3.829 0.000373 ***\n",
       "estacionalidadh_3  -0.29283    0.06461  -4.532 3.89e-05 ***\n",
       "estacionalidadh_4  -0.32839    0.06461  -5.082 6.08e-06 ***\n",
       "estacionalidadh_5  -0.33556    0.06461  -5.193 4.16e-06 ***\n",
       "estacionalidadh_6  -0.29317    0.06461  -4.537 3.82e-05 ***\n",
       "estacionalidadh_7  -0.07203    0.06461  -1.115 0.270505    \n",
       "estacionalidadh_8   0.21839    0.06461   3.380 0.001448 ** \n",
       "estacionalidadh_9   0.44859    0.06461   6.943 9.00e-09 ***\n",
       "estacionalidadh_10  0.63909    0.06461   9.891 3.62e-13 ***\n",
       "estacionalidadh_11  0.73659    0.06461  11.400 2.93e-15 ***\n",
       "estacionalidadh_12  0.76110    0.06461  11.779 9.12e-16 ***\n",
       "estacionalidadh_13  0.72469    0.06461  11.216 5.19e-15 ***\n",
       "estacionalidadh_14  0.66740    0.06461  10.329 8.68e-14 ***\n",
       "estacionalidadh_15  0.65804    0.06461  10.184 1.39e-13 ***\n",
       "estacionalidadh_16  0.68538    0.06461  10.607 3.55e-14 ***\n",
       "estacionalidadh_17  0.70264    0.06461  10.875 1.52e-14 ***\n",
       "estacionalidadh_18  0.72217    0.06461  11.177 5.86e-15 ***\n",
       "estacionalidadh_19  0.73412    0.06461  11.362 3.29e-15 ***\n",
       "estacionalidadh_20  0.67701    0.06461  10.478 5.37e-14 ***\n",
       "estacionalidadh_21  0.55509    0.06461   8.591 2.86e-11 ***\n",
       "estacionalidadh_22  0.38504    0.06461   5.959 2.89e-07 ***\n",
       "estacionalidadh_23  0.19916    0.06461   3.082 0.003399 ** \n",
       "---\n",
       "Signif. codes:  0 '***' 0.001 '**' 0.01 '*' 0.05 '.' 0.1 ' ' 1\n",
       "\n",
       "Residual standard error: 0.07913 on 48 degrees of freedom\n",
       "Multiple R-squared:  0.9762,\tAdjusted R-squared:  0.9648 \n",
       "F-statistic:  85.5 on 23 and 48 DF,  p-value: < 2.2e-16\n"
      ]
     },
     "metadata": {},
     "output_type": "display_data"
    }
   ],
   "source": [
    "summary(modeloEliminoEstacionalidadTend )"
   ]
  },
  {
   "cell_type": "code",
   "execution_count": 101,
   "metadata": {},
   "outputs": [],
   "source": [
    "prediccionSinEstacTend = fitted(modeloEliminoEstacionalidadTend )\n",
    "residuosSinEstacTend = residuals(modeloEliminoEstacionalidadTend )"
   ]
  },
  {
   "cell_type": "code",
   "execution_count": 102,
   "metadata": {},
   "outputs": [
    {
     "data": {
      "image/png": "[encoded data removed]",
      "text/plain": [
       "plot without title"
      ]
     },
     "metadata": {},
     "output_type": "display_data"
    }
   ],
   "source": [
    "par(mfrow=c(1, 2))\n",
    "plot.ts(prediccionSinEstacTend)\n",
    "plot.ts(residuosSinEstacTend)"
   ]
  },
  {
   "cell_type": "code",
   "execution_count": 103,
   "metadata": {},
   "outputs": [
    {
     "data": {
      "text/plain": [
       "\n",
       "\tAugmented Dickey-Fuller Test\n",
       "\n",
       "data:  residuosSinEstacTend\n",
       "Dickey-Fuller = -3.6403, Lag order = 4, p-value = 0.03617\n",
       "alternative hypothesis: stationary\n"
      ]
     },
     "metadata": {},
     "output_type": "display_data"
    },
    {
     "data": {
      "text/plain": [
       "\n",
       "\tPhillips-Perron Unit Root Test\n",
       "\n",
       "data:  residuosSinEstacTend\n",
       "Dickey-Fuller Z(alpha) = -21.687, Truncation lag parameter = 3, p-value\n",
       "= 0.03616\n",
       "alternative hypothesis: stationary\n"
      ]
     },
     "metadata": {},
     "output_type": "display_data"
    },
    {
     "name": "stderr",
     "output_type": "stream",
     "text": [
      "Warning message in kpss.test(residuosSinEstacTend, null = c(\"Level\")):\n",
      "\"p-value greater than printed p-value\""
     ]
    },
    {
     "data": {
      "text/plain": [
       "\n",
       "\tKPSS Test for Level Stationarity\n",
       "\n",
       "data:  residuosSinEstacTend\n",
       "KPSS Level = 0.074052, Truncation lag parameter = 1, p-value = 0.1\n"
      ]
     },
     "metadata": {},
     "output_type": "display_data"
    }
   ],
   "source": [
    "#install.packages(\"tseries\")\n",
    "# adf hipótesis nula de que una serie contiene una raíz unitaria\n",
    "#  KPSS utiliza la hipótesis nula de que la serie es estacionaria.\n",
    "\n",
    "library(tseries)\n",
    "adf.test(residuosSinEstacTend, alternative=\"stationary\")\n",
    "\n",
    "# test de pperron\n",
    "# hipótesis nula que x: tiene una raíz unitaria frente a una alternativa estacionaria\n",
    "pp.test(residuosSinEstacTend, alternative=\"stationary\")\n",
    "\n",
    "# La hipótesis nula para la prueba es que los datos son estacionarios.\n",
    "kpss.test(residuosSinEstacTend, null = c(\"Level\"))"
   ]
  },
  {
   "cell_type": "code",
   "execution_count": 104,
   "metadata": {},
   "outputs": [
    {
     "name": "stderr",
     "output_type": "stream",
     "text": [
      "Warning message in adf.test(diff(residuosSinEstacTend), alternative = \"stationary\", :\n",
      "\"p-value smaller than printed p-value\""
     ]
    },
    {
     "data": {
      "text/plain": [
       "\n",
       "\tAugmented Dickey-Fuller Test\n",
       "\n",
       "data:  diff(residuosSinEstacTend)\n",
       "Dickey-Fuller = -6.2813, Lag order = 0, p-value = 0.01\n",
       "alternative hypothesis: stationary\n"
      ]
     },
     "metadata": {},
     "output_type": "display_data"
    },
    {
     "name": "stderr",
     "output_type": "stream",
     "text": [
      "Warning message in pp.test(diff(residuosSinEstacTend), alternative = \"stationary\"):\n",
      "\"p-value smaller than printed p-value\""
     ]
    },
    {
     "data": {
      "text/plain": [
       "\n",
       "\tPhillips-Perron Unit Root Test\n",
       "\n",
       "data:  diff(residuosSinEstacTend)\n",
       "Dickey-Fuller Z(alpha) = -43.585, Truncation lag parameter = 3, p-value\n",
       "= 0.01\n",
       "alternative hypothesis: stationary\n"
      ]
     },
     "metadata": {},
     "output_type": "display_data"
    },
    {
     "name": "stderr",
     "output_type": "stream",
     "text": [
      "Warning message in kpss.test(diff(residuosSinEstacTend), null = c(\"Level\")):\n",
      "\"p-value greater than printed p-value\""
     ]
    },
    {
     "data": {
      "text/plain": [
       "\n",
       "\tKPSS Test for Level Stationarity\n",
       "\n",
       "data:  diff(residuosSinEstacTend)\n",
       "KPSS Level = 0.087951, Truncation lag parameter = 1, p-value = 0.1\n"
      ]
     },
     "metadata": {},
     "output_type": "display_data"
    }
   ],
   "source": [
    "# test de dickey-fuller\n",
    "adf.test(diff(residuosSinEstacTend), alternative=\"stationary\",k=0)\n",
    "\n",
    "# test de pperron\n",
    "pp.test(diff(residuosSinEstacTend), alternative=\"stationary\")\n",
    "\n",
    "# La hipótesis nula para la prueba es que los datos son estacionarios.\n",
    "kpss.test(diff(residuosSinEstacTend), null = c(\"Level\"))\n"
   ]
  },
  {
   "cell_type": "code",
   "execution_count": 105,
   "metadata": {},
   "outputs": [
    {
     "data": {
      "image/png": "[encoded data removed]",
      "text/plain": [
       "plot without title"
      ]
     },
     "metadata": {},
     "output_type": "display_data"
    }
   ],
   "source": [
    "lag.plot(residuosSinEstacTend,lags=12,do.lines=F)"
   ]
  },
  {
   "cell_type": "code",
   "execution_count": 106,
   "metadata": {},
   "outputs": [
    {
     "data": {
      "image/png": "[encoded data removed]",
      "text/plain": [
       "Plot with title \"\""
      ]
     },
     "metadata": {},
     "output_type": "display_data"
    }
   ],
   "source": [
    "library(forecast)\n",
    "tsdisplay(residuosSinEstacTend)"
   ]
  },
  {
   "cell_type": "code",
   "execution_count": 107,
   "metadata": {},
   "outputs": [
    {
     "data": {
      "image/png": "[encoded data removed]",
      "text/plain": [
       "Plot with title \"\""
      ]
     },
     "metadata": {},
     "output_type": "display_data"
    }
   ],
   "source": [
    "#install.packages(\"forecast\")\n",
    "tsdisplay(diff(residuosSinEstacTend))\n"
   ]
  },
  {
   "cell_type": "code",
   "execution_count": 108,
   "metadata": {},
   "outputs": [
    {
     "data": {
      "image/png": "[encoded data removed]",
      "text/plain": [
       "Plot with title \"\""
      ]
     },
     "metadata": {},
     "output_type": "display_data"
    }
   ],
   "source": [
    "tsdisplay(diff(diff(residuosSinEstacTend)))"
   ]
  },
  {
   "cell_type": "code",
   "execution_count": 109,
   "metadata": {},
   "outputs": [],
   "source": [
    "# indice de resiliencia\n",
    "# creo tendencia cuadrada\n",
    "dataIndCon$tend2 = (dataIndCon$tend)^2\n",
    "dataIndCon$tend3 = (dataIndCon$tend)^3\n",
    "dataIndCon$ind.res = manabiDespues$ind.res\n"
   ]
  },
  {
   "cell_type": "code",
   "execution_count": 110,
   "metadata": {},
   "outputs": [
    {
     "data": {
      "image/png": "[encoded data removed]",
      "text/plain": [
       "plot without title"
      ]
     },
     "metadata": {},
     "output_type": "display_data"
    }
   ],
   "source": [
    "lag.plot(dataIndCon$ind.res,lags=12,do.lines=F)"
   ]
  },
  {
   "cell_type": "code",
   "execution_count": 111,
   "metadata": {},
   "outputs": [],
   "source": [
    "modeloEliminoEstacionalidadTendRes =lm(ind.res~+estacionalidadh_4+estacionalidadh_5+estacionalidadh_6+\n",
    "           estacionalidadh_7+estacionalidadh_8+\n",
    "          tend+tend2+tend3, data =dataIndCon )"
   ]
  },
  {
   "cell_type": "code",
   "execution_count": 112,
   "metadata": {},
   "outputs": [
    {
     "data": {
      "text/plain": [
       "\n",
       "Call:\n",
       "lm(formula = ind.res ~ +estacionalidadh_4 + estacionalidadh_5 + \n",
       "    estacionalidadh_6 + estacionalidadh_7 + estacionalidadh_8 + \n",
       "    tend + tend2 + tend3, data = dataIndCon)\n",
       "\n",
       "Residuals:\n",
       "       Min         1Q     Median         3Q        Max \n",
       "-0.0131585 -0.0042356  0.0005321  0.0036000  0.0141889 \n",
       "\n",
       "Coefficients:\n",
       "                    Estimate Std. Error t value Pr(>|t|)    \n",
       "(Intercept)        6.658e-01  3.579e-03 186.054  < 2e-16 ***\n",
       "estacionalidadh_4 -8.335e-03  4.095e-03  -2.036  0.04601 *  \n",
       "estacionalidadh_5 -1.119e-02  4.083e-03  -2.740  0.00797 ** \n",
       "estacionalidadh_6 -1.282e-02  4.073e-03  -3.148  0.00251 ** \n",
       "estacionalidadh_7 -1.145e-02  4.064e-03  -2.818  0.00646 ** \n",
       "estacionalidadh_8 -8.610e-03  4.058e-03  -2.122  0.03779 *  \n",
       "tend               6.408e-03  4.082e-04  15.699  < 2e-16 ***\n",
       "tend2             -1.499e-04  1.294e-05 -11.584  < 2e-16 ***\n",
       "tend3              1.078e-06  1.166e-07   9.247 2.42e-13 ***\n",
       "---\n",
       "Signif. codes:  0 '***' 0.001 '**' 0.01 '*' 0.05 '.' 0.1 ' ' 1\n",
       "\n",
       "Residual standard error: 0.006818 on 63 degrees of freedom\n",
       "Multiple R-squared:  0.9118,\tAdjusted R-squared:  0.9006 \n",
       "F-statistic: 81.41 on 8 and 63 DF,  p-value: < 2.2e-16\n"
      ]
     },
     "metadata": {},
     "output_type": "display_data"
    }
   ],
   "source": [
    "summary(modeloEliminoEstacionalidadTendRes)"
   ]
  },
  {
   "cell_type": "code",
   "execution_count": 113,
   "metadata": {},
   "outputs": [],
   "source": [
    "prediccionSinEstacTendRes = fitted(modeloEliminoEstacionalidadTendRes )\n",
    "residuosSinEstacTendRes = residuals(modeloEliminoEstacionalidadTendRes )"
   ]
  },
  {
   "cell_type": "code",
   "execution_count": 114,
   "metadata": {},
   "outputs": [
    {
     "data": {
      "image/png": "[encoded data removed]",
      "text/plain": [
       "plot without title"
      ]
     },
     "metadata": {},
     "output_type": "display_data"
    }
   ],
   "source": [
    "par(mfrow=c(1, 2))\n",
    "plot.ts(prediccionSinEstacTendRes)\n",
    "plot.ts(residuosSinEstacTendRes)"
   ]
  },
  {
   "cell_type": "code",
   "execution_count": 115,
   "metadata": {},
   "outputs": [
    {
     "data": {
      "image/png": "[encoded data removed]",
      "text/plain": [
       "plot without title"
      ]
     },
     "metadata": {},
     "output_type": "display_data"
    }
   ],
   "source": [
    "modelosolotend =lm(ind.res~+estacionalidadh_1+estacionalidadh_2+estacionalidadh_3+estacionalidadh_4+\n",
    "                   estacionalidadh_5+estacionalidadh_6+estacionalidadh_7+estacionalidadh_8+\n",
    "                   estacionalidadh_9+estacionalidadh_10+estacionalidadh_11+estacionalidadh_12+\n",
    "                   estacionalidadh_13+estacionalidadh_14+estacionalidadh_15+\n",
    "                   estacionalidadh_16+estacionalidadh_17+estacionalidadh_18+\n",
    "                   estacionalidadh_19+estacionalidadh_20+estacionalidadh_21+\n",
    "                   estacionalidadh_22+estacionalidadh_23+tend+tend2+tend3, data =dataIndCon )\n",
    "prediccionST = fitted(modelosolotend)\n",
    "residuosST = residuals(modelosolotend)\n",
    "\n",
    "par(mfrow=c(1, 2))\n",
    "plot.ts(prediccionST)\n",
    "plot.ts(residuosST)"
   ]
  },
  {
   "cell_type": "code",
   "execution_count": 116,
   "metadata": {},
   "outputs": [
    {
     "data": {
      "text/plain": [
       "\n",
       "\tAugmented Dickey-Fuller Test\n",
       "\n",
       "data:  residuosSinEstacTendRes\n",
       "Dickey-Fuller = -2.7474, Lag order = 4, p-value = 0.271\n",
       "alternative hypothesis: stationary\n"
      ]
     },
     "metadata": {},
     "output_type": "display_data"
    },
    {
     "data": {
      "text/plain": [
       "\n",
       "\tPhillips-Perron Unit Root Test\n",
       "\n",
       "data:  residuosSinEstacTendRes\n",
       "Dickey-Fuller Z(alpha) = -18.475, Truncation lag parameter = 3, p-value\n",
       "= 0.07761\n",
       "alternative hypothesis: stationary\n"
      ]
     },
     "metadata": {},
     "output_type": "display_data"
    },
    {
     "name": "stderr",
     "output_type": "stream",
     "text": [
      "Warning message in kpss.test(residuosSinEstacTendRes, null = c(\"Level\")):\n",
      "\"p-value greater than printed p-value\""
     ]
    },
    {
     "data": {
      "text/plain": [
       "\n",
       "\tKPSS Test for Level Stationarity\n",
       "\n",
       "data:  residuosSinEstacTendRes\n",
       "KPSS Level = 0.16973, Truncation lag parameter = 1, p-value = 0.1\n"
      ]
     },
     "metadata": {},
     "output_type": "display_data"
    }
   ],
   "source": [
    "adf.test(residuosSinEstacTendRes, alternative=\"stationary\")\n",
    "\n",
    "# test de pperron\n",
    "pp.test(residuosSinEstacTendRes, alternative=\"stationary\")\n",
    "\n",
    "# La hipótesis nula para la prueba es que los datos son estacionarios.\n",
    "kpss.test(residuosSinEstacTendRes, null = c(\"Level\"))"
   ]
  },
  {
   "cell_type": "code",
   "execution_count": 117,
   "metadata": {},
   "outputs": [
    {
     "name": "stderr",
     "output_type": "stream",
     "text": [
      "Warning message in adf.test(diff(residuosSinEstacTendRes), alternative = \"stationary\"):\n",
      "\"p-value smaller than printed p-value\""
     ]
    },
    {
     "data": {
      "text/plain": [
       "\n",
       "\tAugmented Dickey-Fuller Test\n",
       "\n",
       "data:  diff(residuosSinEstacTendRes)\n",
       "Dickey-Fuller = -5.5487, Lag order = 4, p-value = 0.01\n",
       "alternative hypothesis: stationary\n"
      ]
     },
     "metadata": {},
     "output_type": "display_data"
    },
    {
     "name": "stderr",
     "output_type": "stream",
     "text": [
      "Warning message in pp.test(diff(residuosSinEstacTendRes), alternative = \"stationary\"):\n",
      "\"p-value smaller than printed p-value\""
     ]
    },
    {
     "data": {
      "text/plain": [
       "\n",
       "\tPhillips-Perron Unit Root Test\n",
       "\n",
       "data:  diff(residuosSinEstacTendRes)\n",
       "Dickey-Fuller Z(alpha) = -38.31, Truncation lag parameter = 3, p-value\n",
       "= 0.01\n",
       "alternative hypothesis: stationary\n"
      ]
     },
     "metadata": {},
     "output_type": "display_data"
    },
    {
     "name": "stderr",
     "output_type": "stream",
     "text": [
      "Warning message in kpss.test(diff(residuosSinEstacTendRes), null = c(\"Level\")):\n",
      "\"p-value greater than printed p-value\""
     ]
    },
    {
     "data": {
      "text/plain": [
       "\n",
       "\tKPSS Test for Level Stationarity\n",
       "\n",
       "data:  diff(residuosSinEstacTendRes)\n",
       "KPSS Level = 0.094358, Truncation lag parameter = 1, p-value = 0.1\n"
      ]
     },
     "metadata": {},
     "output_type": "display_data"
    }
   ],
   "source": [
    "# test de dickey-fuller\n",
    "adf.test(diff(residuosSinEstacTendRes), alternative=\"stationary\")\n",
    "\n",
    "# test de pperron\n",
    "pp.test(diff(residuosSinEstacTendRes), alternative=\"stationary\")\n",
    "\n",
    "# La hipótesis nula para la prueba es que los datos son estacionarios.\n",
    "kpss.test(diff(residuosSinEstacTendRes), null = c(\"Level\"))\n"
   ]
  },
  {
   "cell_type": "code",
   "execution_count": 119,
   "metadata": {},
   "outputs": [
    {
     "data": {
      "image/png": "[encoded data removed]",
      "text/plain": [
       "Plot with title \"\""
      ]
     },
     "metadata": {},
     "output_type": "display_data"
    }
   ],
   "source": [
    "tsdisplay(diff(residuosSinEstacTendRes))"
   ]
  },
  {
   "cell_type": "code",
   "execution_count": 132,
   "metadata": {},
   "outputs": [
    {
     "data": {
      "image/png": "[encoded data removed]",
      "text/plain": [
       "Plot with title \"\""
      ]
     },
     "metadata": {},
     "output_type": "display_data"
    }
   ],
   "source": [
    "tsdisplay(diff(diff(residuosST)))"
   ]
  },
  {
   "cell_type": "code",
   "execution_count": 133,
   "metadata": {},
   "outputs": [],
   "source": [
    "# series a usarse\n",
    "# residuosST\n",
    "# residuosSinEstacTendRes\n",
    "ind.res.estac = diff(residuosST)\n",
    "ind.con.estac = diff(residuosSinEstacTend)\n"
   ]
  },
  {
   "cell_type": "code",
   "execution_count": 134,
   "metadata": {},
   "outputs": [
    {
     "data": {
      "text/html": [
       "<table>\n",
       "<thead><tr><th></th><th scope=col>ind.res.estac</th><th scope=col>ind.con.estac</th></tr></thead>\n",
       "<tbody>\n",
       "\t<tr><th scope=row>2</th><td>-0.007639525</td><td>0.02386074  </td></tr>\n",
       "\t<tr><th scope=row>3</th><td>-0.005919445</td><td>0.01538919  </td></tr>\n",
       "\t<tr><th scope=row>4</th><td>-0.004488207</td><td>0.02831481  </td></tr>\n",
       "\t<tr><th scope=row>5</th><td>-0.003176125</td><td>0.01722731  </td></tr>\n",
       "\t<tr><th scope=row>6</th><td>-0.001041382</td><td>0.03473640  </td></tr>\n",
       "\t<tr><th scope=row>7</th><td> 0.004142723</td><td>0.09927898  </td></tr>\n",
       "</tbody>\n",
       "</table>\n"
      ],
      "text/latex": [
       "\\begin{tabular}{r|ll}\n",
       "  & ind.res.estac & ind.con.estac\\\\\n",
       "\\hline\n",
       "\t2 & -0.007639525 & 0.02386074  \\\\\n",
       "\t3 & -0.005919445 & 0.01538919  \\\\\n",
       "\t4 & -0.004488207 & 0.02831481  \\\\\n",
       "\t5 & -0.003176125 & 0.01722731  \\\\\n",
       "\t6 & -0.001041382 & 0.03473640  \\\\\n",
       "\t7 &  0.004142723 & 0.09927898  \\\\\n",
       "\\end{tabular}\n"
      ],
      "text/markdown": [
       "\n",
       "| <!--/--> | ind.res.estac | ind.con.estac | \n",
       "|---|---|---|---|---|---|\n",
       "| 2 | -0.007639525 | 0.02386074   | \n",
       "| 3 | -0.005919445 | 0.01538919   | \n",
       "| 4 | -0.004488207 | 0.02831481   | \n",
       "| 5 | -0.003176125 | 0.01722731   | \n",
       "| 6 | -0.001041382 | 0.03473640   | \n",
       "| 7 |  0.004142723 | 0.09927898   | \n",
       "\n",
       "\n"
      ],
      "text/plain": [
       "  ind.res.estac ind.con.estac\n",
       "2 -0.007639525  0.02386074   \n",
       "3 -0.005919445  0.01538919   \n",
       "4 -0.004488207  0.02831481   \n",
       "5 -0.003176125  0.01722731   \n",
       "6 -0.001041382  0.03473640   \n",
       "7  0.004142723  0.09927898   "
      ]
     },
     "metadata": {},
     "output_type": "display_data"
    }
   ],
   "source": [
    "# junto con solo series estacionarias\n",
    "seriesEstac = cbind(ind.res.estac,ind.con.estac)\n",
    "head(seriesEstac)"
   ]
  },
  {
   "cell_type": "code",
   "execution_count": 135,
   "metadata": {},
   "outputs": [
    {
     "data": {
      "text/html": [
       "<dl>\n",
       "\t<dt>$selection</dt>\n",
       "\t\t<dd><dl class=dl-horizontal>\n",
       "\t<dt>AIC(n)</dt>\n",
       "\t\t<dd>1</dd>\n",
       "\t<dt>HQ(n)</dt>\n",
       "\t\t<dd>1</dd>\n",
       "\t<dt>SC(n)</dt>\n",
       "\t\t<dd>1</dd>\n",
       "\t<dt>FPE(n)</dt>\n",
       "\t\t<dd>1</dd>\n",
       "</dl>\n",
       "</dd>\n",
       "\t<dt>$criteria</dt>\n",
       "\t\t<dd><table>\n",
       "<thead><tr><th></th><th scope=col>1</th><th scope=col>2</th><th scope=col>3</th><th scope=col>4</th><th scope=col>5</th><th scope=col>6</th><th scope=col>7</th><th scope=col>8</th><th scope=col>9</th><th scope=col>10</th></tr></thead>\n",
       "<tbody>\n",
       "\t<tr><th scope=row>AIC(n)</th><td>-1.864081e+01</td><td>-1.863938e+01</td><td>-1.854590e+01</td><td>-1.845497e+01</td><td>-1.835693e+01</td><td>-1.827122e+01</td><td>-1.832567e+01</td><td>-1.823860e+01</td><td>-1.814893e+01</td><td>-1.802961e+01</td></tr>\n",
       "\t<tr><th scope=row>HQ(n)</th><td>-1.855944e+01</td><td>-1.850377e+01</td><td>-1.835603e+01</td><td>-1.821086e+01</td><td>-1.805857e+01</td><td>-1.791862e+01</td><td>-1.791882e+01</td><td>-1.777750e+01</td><td>-1.763358e+01</td><td>-1.746002e+01</td></tr>\n",
       "\t<tr><th scope=row>SC(n)</th><td>-1.843318e+01</td><td>-1.829334e+01</td><td>-1.806144e+01</td><td>-1.783209e+01</td><td>-1.759563e+01</td><td>-1.737151e+01</td><td>-1.728754e+01</td><td>-1.706205e+01</td><td>-1.683396e+01</td><td>-1.657622e+01</td></tr>\n",
       "\t<tr><th scope=row>FPE(n)</th><td> 8.025456e-09</td><td> 8.041523e-09</td><td> 8.840986e-09</td><td> 9.704951e-09</td><td> 1.074360e-08</td><td> 1.176714e-08</td><td> 1.122533e-08</td><td> 1.236595e-08</td><td> 1.369665e-08</td><td> 1.567838e-08</td></tr>\n",
       "</tbody>\n",
       "</table>\n",
       "</dd>\n",
       "</dl>\n"
      ],
      "text/latex": [
       "\\begin{description}\n",
       "\\item[\\$selection] \\begin{description*}\n",
       "\\item[AIC(n)] 1\n",
       "\\item[HQ(n)] 1\n",
       "\\item[SC(n)] 1\n",
       "\\item[FPE(n)] 1\n",
       "\\end{description*}\n",
       "\n",
       "\\item[\\$criteria] \\begin{tabular}{r|llllllllll}\n",
       "  & 1 & 2 & 3 & 4 & 5 & 6 & 7 & 8 & 9 & 10\\\\\n",
       "\\hline\n",
       "\tAIC(n) & -1.864081e+01 & -1.863938e+01 & -1.854590e+01 & -1.845497e+01 & -1.835693e+01 & -1.827122e+01 & -1.832567e+01 & -1.823860e+01 & -1.814893e+01 & -1.802961e+01\\\\\n",
       "\tHQ(n) & -1.855944e+01 & -1.850377e+01 & -1.835603e+01 & -1.821086e+01 & -1.805857e+01 & -1.791862e+01 & -1.791882e+01 & -1.777750e+01 & -1.763358e+01 & -1.746002e+01\\\\\n",
       "\tSC(n) & -1.843318e+01 & -1.829334e+01 & -1.806144e+01 & -1.783209e+01 & -1.759563e+01 & -1.737151e+01 & -1.728754e+01 & -1.706205e+01 & -1.683396e+01 & -1.657622e+01\\\\\n",
       "\tFPE(n) &  8.025456e-09 &  8.041523e-09 &  8.840986e-09 &  9.704951e-09 &  1.074360e-08 &  1.176714e-08 &  1.122533e-08 &  1.236595e-08 &  1.369665e-08 &  1.567838e-08\\\\\n",
       "\\end{tabular}\n",
       "\n",
       "\\end{description}\n"
      ],
      "text/markdown": [
       "$selection\n",
       ":   AIC(n)\n",
       ":   1HQ(n)\n",
       ":   1SC(n)\n",
       ":   1FPE(n)\n",
       ":   1\n",
       "\n",
       "\n",
       "$criteria\n",
       ":   \n",
       "| <!--/--> | 1 | 2 | 3 | 4 | 5 | 6 | 7 | 8 | 9 | 10 | \n",
       "|---|---|---|---|\n",
       "| AIC(n) | -1.864081e+01 | -1.863938e+01 | -1.854590e+01 | -1.845497e+01 | -1.835693e+01 | -1.827122e+01 | -1.832567e+01 | -1.823860e+01 | -1.814893e+01 | -1.802961e+01 | \n",
       "| HQ(n) | -1.855944e+01 | -1.850377e+01 | -1.835603e+01 | -1.821086e+01 | -1.805857e+01 | -1.791862e+01 | -1.791882e+01 | -1.777750e+01 | -1.763358e+01 | -1.746002e+01 | \n",
       "| SC(n) | -1.843318e+01 | -1.829334e+01 | -1.806144e+01 | -1.783209e+01 | -1.759563e+01 | -1.737151e+01 | -1.728754e+01 | -1.706205e+01 | -1.683396e+01 | -1.657622e+01 | \n",
       "| FPE(n) |  8.025456e-09 |  8.041523e-09 |  8.840986e-09 |  9.704951e-09 |  1.074360e-08 |  1.176714e-08 |  1.122533e-08 |  1.236595e-08 |  1.369665e-08 |  1.567838e-08 | \n",
       "\n",
       "\n",
       "\n",
       "\n",
       "\n"
      ],
      "text/plain": [
       "$selection\n",
       "AIC(n)  HQ(n)  SC(n) FPE(n) \n",
       "     1      1      1      1 \n",
       "\n",
       "$criteria\n",
       "                   1             2             3             4             5\n",
       "AIC(n) -1.864081e+01 -1.863938e+01 -1.854590e+01 -1.845497e+01 -1.835693e+01\n",
       "HQ(n)  -1.855944e+01 -1.850377e+01 -1.835603e+01 -1.821086e+01 -1.805857e+01\n",
       "SC(n)  -1.843318e+01 -1.829334e+01 -1.806144e+01 -1.783209e+01 -1.759563e+01\n",
       "FPE(n)  8.025456e-09  8.041523e-09  8.840986e-09  9.704951e-09  1.074360e-08\n",
       "                   6             7             8             9            10\n",
       "AIC(n) -1.827122e+01 -1.832567e+01 -1.823860e+01 -1.814893e+01 -1.802961e+01\n",
       "HQ(n)  -1.791862e+01 -1.791882e+01 -1.777750e+01 -1.763358e+01 -1.746002e+01\n",
       "SC(n)  -1.737151e+01 -1.728754e+01 -1.706205e+01 -1.683396e+01 -1.657622e+01\n",
       "FPE(n)  1.176714e-08  1.122533e-08  1.236595e-08  1.369665e-08  1.567838e-08\n"
      ]
     },
     "metadata": {},
     "output_type": "display_data"
    }
   ],
   "source": [
    "# selection criteria summary\n",
    "library(vars)\n",
    "VARselect(seriesEstac, lag.max=10, type=\"const\")"
   ]
  },
  {
   "cell_type": "code",
   "execution_count": 136,
   "metadata": {},
   "outputs": [],
   "source": [
    "#install.packages(\"vars\")\n",
    "#library(vars)\n",
    "var.1 <- VAR(seriesEstac, lag.max=5, type = \"const\",ic=\"HQ\")"
   ]
  },
  {
   "cell_type": "code",
   "execution_count": 137,
   "metadata": {},
   "outputs": [
    {
     "data": {
      "text/plain": [
       "\n",
       "VAR Estimation Results:\n",
       "========================= \n",
       "Endogenous variables: ind.res.estac, ind.con.estac \n",
       "Deterministic variables: const \n",
       "Sample size: 70 \n",
       "Log Likelihood: 457.054 \n",
       "Roots of the characteristic polynomial:\n",
       "0.389 0.389\n",
       "Call:\n",
       "VAR(y = seriesEstac, type = \"const\", lag.max = 5, ic = \"HQ\")\n",
       "\n",
       "\n",
       "Estimation results for equation ind.res.estac: \n",
       "============================================== \n",
       "ind.res.estac = ind.res.estac.l1 + ind.con.estac.l1 + const \n",
       "\n",
       "                  Estimate Std. Error t value Pr(>|t|)    \n",
       "ind.res.estac.l1 4.992e-01  9.571e-02   5.216 1.92e-06 ***\n",
       "ind.con.estac.l1 6.563e-03  5.190e-03   1.265    0.210    \n",
       "const            6.774e-06  2.400e-04   0.028    0.978    \n",
       "---\n",
       "Signif. codes:  0 '***' 0.001 '**' 0.01 '*' 0.05 '.' 0.1 ' ' 1\n",
       "\n",
       "\n",
       "Residual standard error: 0.002003 on 67 degrees of freedom\n",
       "Multiple R-Squared: 0.2972,\tAdjusted R-squared: 0.2762 \n",
       "F-statistic: 14.17 on 2 and 67 DF,  p-value: 7.386e-06 \n",
       "\n",
       "\n",
       "Estimation results for equation ind.con.estac: \n",
       "============================================== \n",
       "ind.con.estac = ind.res.estac.l1 + ind.con.estac.l1 + const \n",
       "\n",
       "                   Estimate Std. Error t value Pr(>|t|)  \n",
       "ind.res.estac.l1 -3.1197878  2.1341045  -1.462   0.1485  \n",
       "ind.con.estac.l1  0.2620566  0.1157225   2.265   0.0268 *\n",
       "const            -0.0006245  0.0053516  -0.117   0.9074  \n",
       "---\n",
       "Signif. codes:  0 '***' 0.001 '**' 0.01 '*' 0.05 '.' 0.1 ' ' 1\n",
       "\n",
       "\n",
       "Residual standard error: 0.04466 on 67 degrees of freedom\n",
       "Multiple R-Squared: 0.1011,\tAdjusted R-squared: 0.07427 \n",
       "F-statistic: 3.768 on 2 and 67 DF,  p-value: 0.02814 \n",
       "\n",
       "\n",
       "\n",
       "Covariance matrix of residuals:\n",
       "              ind.res.estac ind.con.estac\n",
       "ind.res.estac     4.011e-06     4.862e-06\n",
       "ind.con.estac     4.862e-06     1.994e-03\n",
       "\n",
       "Correlation matrix of residuals:\n",
       "              ind.res.estac ind.con.estac\n",
       "ind.res.estac       1.00000       0.05436\n",
       "ind.con.estac       0.05436       1.00000\n",
       "\n"
      ]
     },
     "metadata": {},
     "output_type": "display_data"
    }
   ],
   "source": [
    "#La matriz de correlación de residuos en la parte inferior presenta -0.10 como la correlación de residuos. \n",
    "#Es relativamente bajo e implica y1  y2 No tienen mucho impacto entre sí.\n",
    "summary(var.1)"
   ]
  },
  {
   "cell_type": "code",
   "execution_count": 139,
   "metadata": {},
   "outputs": [
    {
     "name": "stdout",
     "output_type": "stream",
     "text": [
      "\n",
      "==========================================================\n",
      "                                  Dependent variable:     \n",
      "                              ----------------------------\n",
      "                                    (1)           (2)     \n",
      "----------------------------------------------------------\n",
      "ind.res.estac.l1                 0.499***        -3.120   \n",
      "                                  (0.096)       (2.134)   \n",
      "                                                          \n",
      "ind.con.estac.l1                   0.007        0.262**   \n",
      "                                  (0.005)       (0.116)   \n",
      "                                                          \n",
      "const                             0.00001        -0.001   \n",
      "                                 (0.0002)       (0.005)   \n",
      "                                                          \n",
      "----------------------------------------------------------\n",
      "Observations                        70             70     \n",
      "R2                                 0.297         0.101    \n",
      "Adjusted R2                        0.276         0.074    \n",
      "Residual Std. Error (df = 67)      0.002         0.045    \n",
      "F Statistic (df = 2; 67)         14.168***      3.768**   \n",
      "==========================================================\n",
      "Note:                          *p<0.1; **p<0.05; ***p<0.01\n"
     ]
    }
   ],
   "source": [
    "# using stargazer package to report results of VAR estimation\n",
    "#install.packages(\"stargazer\")\n",
    "lmp <- var.1$varresult\n",
    "library(stargazer)\n",
    "stargazer(lmp$ind.res.estac, lmp$ind.con.estac, type=\"text\", dep.var.labels.include=FALSE)"
   ]
  },
  {
   "cell_type": "code",
   "execution_count": 140,
   "metadata": {},
   "outputs": [
    {
     "data": {
      "image/png": "[encoded data removed]",
      "text/plain": [
       "Plot with title \"PACF Residuals\""
      ]
     },
     "metadata": {},
     "output_type": "display_data"
    },
    {
     "data": {
      "image/png": "[encoded data removed]",
      "text/plain": [
       "Plot with title \"PACF Residuals\""
      ]
     },
     "metadata": {},
     "output_type": "display_data"
    },
    {
     "data": {
      "image/png": "[encoded data removed]",
      "text/plain": [
       "Plot with title \"PACF Residuals\""
      ]
     },
     "metadata": {},
     "output_type": "display_data"
    }
   ],
   "source": [
    "# plot residuals and their ACF and PACF\n",
    "plot(var.1)\n",
    "plot(var.1, names=\"ind.res.estac\")\n",
    "\n"
   ]
  },
  {
   "cell_type": "code",
   "execution_count": 141,
   "metadata": {},
   "outputs": [
    {
     "data": {
      "text/plain": [
       "$ind.res.estac\n",
       "\n",
       "\tJB-Test (univariate)\n",
       "\n",
       "data:  Residual of ind.res.estac equation\n",
       "Chi-squared = 135.73, df = 2, p-value < 2.2e-16\n",
       "\n",
       "\n",
       "$ind.con.estac\n",
       "\n",
       "\tJB-Test (univariate)\n",
       "\n",
       "data:  Residual of ind.con.estac equation\n",
       "Chi-squared = 5.8939, df = 2, p-value = 0.0525\n",
       "\n",
       "\n",
       "$JB\n",
       "\n",
       "\tJB-Test (multivariate)\n",
       "\n",
       "data:  Residuals of VAR object var.1\n",
       "Chi-squared = 140.94, df = 4, p-value < 2.2e-16\n",
       "\n",
       "\n",
       "$Skewness\n",
       "\n",
       "\tSkewness only (multivariate)\n",
       "\n",
       "data:  Residuals of VAR object var.1\n",
       "Chi-squared = 3.793, df = 2, p-value = 0.1501\n",
       "\n",
       "\n",
       "$Kurtosis\n",
       "\n",
       "\tKurtosis only (multivariate)\n",
       "\n",
       "data:  Residuals of VAR object var.1\n",
       "Chi-squared = 137.15, df = 2, p-value < 2.2e-16\n",
       "\n",
       "\n",
       "$jb.uni\n",
       "$jb.uni$ind.res.estac\n",
       "\n",
       "\tJB-Test (univariate)\n",
       "\n",
       "data:  Residual of ind.res.estac equation\n",
       "Chi-squared = 135.73, df = 2, p-value < 2.2e-16\n",
       "\n",
       "\n",
       "$jb.uni$ind.con.estac\n",
       "\n",
       "\tJB-Test (univariate)\n",
       "\n",
       "data:  Residual of ind.con.estac equation\n",
       "Chi-squared = 5.8939, df = 2, p-value = 0.0525\n",
       "\n",
       "\n",
       "\n",
       "$jb.mul\n",
       "$jb.mul$JB\n",
       "\n",
       "\tJB-Test (multivariate)\n",
       "\n",
       "data:  Residuals of VAR object var.1\n",
       "Chi-squared = 140.94, df = 4, p-value < 2.2e-16\n",
       "\n",
       "\n",
       "$jb.mul$Skewness\n",
       "\n",
       "\tSkewness only (multivariate)\n",
       "\n",
       "data:  Residuals of VAR object var.1\n",
       "Chi-squared = 3.793, df = 2, p-value = 0.1501\n",
       "\n",
       "\n",
       "$jb.mul$Kurtosis\n",
       "\n",
       "\tKurtosis only (multivariate)\n",
       "\n",
       "data:  Residuals of VAR object var.1\n",
       "Chi-squared = 137.15, df = 2, p-value < 2.2e-16\n",
       "\n",
       "\n"
      ]
     },
     "metadata": {},
     "output_type": "display_data"
    },
    {
     "data": {
      "image/png": "[encoded data removed]",
      "text/plain": [
       "Plot with title \"Normal Q-Q Plot\""
      ]
     },
     "metadata": {},
     "output_type": "display_data"
    }
   ],
   "source": [
    "# QQ plot for residuals\n",
    "#str(var.1)\n",
    "# la hipótesis nula de disturbios normales\n",
    "e.ind.res.estac <- var.1$varresult$ind.res.estac$residuals\n",
    "qqnorm(e.ind.res.estac)\n",
    "qqline(e.ind.res.estac)\n",
    "\n",
    "# multivariate Jarque-Bera test\n",
    "normality.test(var.1, multivariate.only=FALSE)"
   ]
  },
  {
   "cell_type": "code",
   "execution_count": 142,
   "metadata": {},
   "outputs": [
    {
     "data": {
      "image/png": "[encoded data removed]",
      "text/plain": [
       "Plot with title \"Normal Q-Q Plot\""
      ]
     },
     "metadata": {},
     "output_type": "display_data"
    }
   ],
   "source": [
    "# QQ plot for residuals\n",
    "#str(var.1)\n",
    "e.ind.con.estac <- var.1$varresult$ind.con.estac$residuals\n",
    "qqnorm(e.ind.con.estac)\n",
    "qqline(e.ind.con.estac)\n"
   ]
  },
  {
   "cell_type": "code",
   "execution_count": 143,
   "metadata": {},
   "outputs": [
    {
     "data": {
      "text/html": [
       "<ol class=list-inline>\n",
       "\t<li>0.388978850650025</li>\n",
       "\t<li>0.388978850650025</li>\n",
       "</ol>\n"
      ],
      "text/latex": [
       "\\begin{enumerate*}\n",
       "\\item 0.388978850650025\n",
       "\\item 0.388978850650025\n",
       "\\end{enumerate*}\n"
      ],
      "text/markdown": [
       "1. 0.388978850650025\n",
       "2. 0.388978850650025\n",
       "\n",
       "\n"
      ],
      "text/plain": [
       "[1] 0.3889789 0.3889789"
      ]
     },
     "metadata": {},
     "output_type": "display_data"
    }
   ],
   "source": [
    "# La comprobación de la estabilidad no indica que nuestro modelo este mal.\n",
    "roots(var.1)"
   ]
  },
  {
   "cell_type": "code",
   "execution_count": 144,
   "metadata": {},
   "outputs": [
    {
     "data": {
      "image/png": "[encoded data removed]",
      "text/plain": [
       "Plot with title \"Series  residuals(var.1)[, 2]\""
      ]
     },
     "metadata": {},
     "output_type": "display_data"
    }
   ],
   "source": [
    "#Los gráficos muestran claramente la no presencia de correlación serial en los residuos.\n",
    "\n",
    "par(mfrow=c(1, 2))\n",
    "acf(residuals(var.1)[,1])\n",
    "acf(residuals(var.1)[,2])"
   ]
  },
  {
   "cell_type": "code",
   "execution_count": 145,
   "metadata": {},
   "outputs": [
    {
     "data": {
      "text/plain": [
       "\n",
       "\tPortmanteau Test (asymptotic)\n",
       "\n",
       "data:  Residuals of VAR object var.1\n",
       "Chi-squared = 29.946, df = 36, p-value = 0.7511\n",
       "\n",
       "$serial\n",
       "\n",
       "\tPortmanteau Test (asymptotic)\n",
       "\n",
       "data:  Residuals of VAR object var.1\n",
       "Chi-squared = 29.946, df = 36, p-value = 0.7511\n",
       "\n"
      ]
     },
     "metadata": {},
     "output_type": "display_data"
    },
    {
     "data": {
      "text/plain": [
       "\n",
       "\tPortmanteau Test (asymptotic)\n",
       "\n",
       "data:  Residuals of VAR object var.1\n",
       "Chi-squared = 42.19, df = 60, p-value = 0.9607\n",
       "\n",
       "$serial\n",
       "\n",
       "\tPortmanteau Test (asymptotic)\n",
       "\n",
       "data:  Residuals of VAR object var.1\n",
       "Chi-squared = 42.19, df = 60, p-value = 0.9607\n",
       "\n"
      ]
     },
     "metadata": {},
     "output_type": "display_data"
    }
   ],
   "source": [
    "# Prueba Portmanteau Multivariada\n",
    "# hipótesis nula de no autocorrelación\n",
    "#Las pruebas confirman la no presencia de autocorrelación en los residuales.\n",
    "serial.test(var.1,lags.pt=10)\n",
    "\n",
    "serial.test(var.1,lags.bg=10)"
   ]
  },
  {
   "cell_type": "code",
   "execution_count": null,
   "metadata": {},
   "outputs": [],
   "source": []
  },
  {
   "cell_type": "code",
   "execution_count": 146,
   "metadata": {},
   "outputs": [
    {
     "data": {
      "text/html": [
       "<table>\n",
       "<thead><tr><th scope=col>ind.res.estac.l1</th><th scope=col>ind.con.estac.l1</th><th scope=col>const</th></tr></thead>\n",
       "<tbody>\n",
       "\t<tr><td> 0.499</td><td>0.007 </td><td> 0.000</td></tr>\n",
       "\t<tr><td>-3.120</td><td>0.262 </td><td>-0.001</td></tr>\n",
       "</tbody>\n",
       "</table>\n"
      ],
      "text/latex": [
       "\\begin{tabular}{lll}\n",
       " ind.res.estac.l1 & ind.con.estac.l1 & const\\\\\n",
       "\\hline\n",
       "\t  0.499 & 0.007  &  0.000\\\\\n",
       "\t -3.120 & 0.262  & -0.001\\\\\n",
       "\\end{tabular}\n"
      ],
      "text/markdown": [
       "\n",
       "ind.res.estac.l1 | ind.con.estac.l1 | const | \n",
       "|---|---|\n",
       "|  0.499 | 0.007  |  0.000 | \n",
       "| -3.120 | 0.262  | -0.001 | \n",
       "\n",
       "\n"
      ],
      "text/plain": [
       "     ind.res.estac.l1 ind.con.estac.l1 const \n",
       "[1,]  0.499           0.007             0.000\n",
       "[2,] -3.120           0.262            -0.001"
      ]
     },
     "metadata": {},
     "output_type": "display_data"
    }
   ],
   "source": [
    "# Extract coefficients, standard errors etc. from the object\n",
    "# produced by the VAR function\n",
    "est_coefs <- coef(var.1)\n",
    "\n",
    "# Extract only the coefficients for both dependend variables\n",
    "# and combine them to a single matrix\n",
    "est_coefs <- rbind(est_coefs[[1]][, 1], est_coefs[[2]][, 1]) \n",
    "\n",
    "# Print the rounded estimates in the console\n",
    "round(est_coefs, 3)"
   ]
  },
  {
   "cell_type": "code",
   "execution_count": 147,
   "metadata": {},
   "outputs": [
    {
     "data": {
      "image/png": "[encoded data removed]",
      "text/plain": [
       "plot without title"
      ]
     },
     "metadata": {},
     "output_type": "display_data"
    },
    {
     "data": {
      "image/png": "[encoded data removed]",
      "text/plain": [
       "plot without title"
      ]
     },
     "metadata": {},
     "output_type": "display_data"
    }
   ],
   "source": [
    "# Calculate the IRF\n",
    "ir.1 <- irf(var.1, impulse = \"ind.res.estac\", response = \"ind.con.estac\", n.ahead = 20, ortho = FALSE)\n",
    "ir.2 <- irf(var.1, impulse = \"ind.con.estac\", response = \"ind.res.estac\", n.ahead = 20, ortho = FALSE)\n",
    "\n",
    "# Plot the IRF\n",
    "par(mfrow=c(1, 2))\n",
    "plot(ir.1)\n",
    "plot(ir.2)"
   ]
  },
  {
   "cell_type": "code",
   "execution_count": 148,
   "metadata": {},
   "outputs": [
    {
     "data": {
      "image/png": "[encoded data removed]",
      "text/plain": [
       "plot without title"
      ]
     },
     "metadata": {},
     "output_type": "display_data"
    },
    {
     "data": {
      "image/png": "[encoded data removed]",
      "text/plain": [
       "plot without title"
      ]
     },
     "metadata": {},
     "output_type": "display_data"
    }
   ],
   "source": [
    "# Calculate impulse response\n",
    "ir.3 <- irf(var.1, impulse = \"ind.res.estac\", response = \"ind.con.estac\", n.ahead = 20, ortho = FALSE,cumulative = TRUE)\n",
    "ir.4 <- irf(var.1, impulse = \"ind.con.estac\", response = \"ind.res.estac\", n.ahead = 20, ortho = FALSE,cumulative = TRUE)\n",
    "\n",
    "\n",
    "# Plot the IRF cummulate\n",
    "par(mfrow=c(1, 2))\n",
    "plot(ir.3)\n",
    "plot(ir.4)"
   ]
  },
  {
   "cell_type": "code",
   "execution_count": 149,
   "metadata": {},
   "outputs": [
    {
     "data": {
      "image/png": "[encoded data removed]",
      "text/plain": [
       "plot without title"
      ]
     },
     "metadata": {},
     "output_type": "display_data"
    },
    {
     "data": {
      "image/png": "[encoded data removed]",
      "text/plain": [
       "plot without title"
      ]
     },
     "metadata": {},
     "output_type": "display_data"
    }
   ],
   "source": [
    "plot(irf(var.1))"
   ]
  },
  {
   "cell_type": "code",
   "execution_count": 311,
   "metadata": {},
   "outputs": [
    {
     "data": {
      "image/png": "[encoded data removed]",
      "text/plain": [
       "Plot with title \"Orthogonal Impulse Response from ind.con.estac\""
      ]
     },
     "metadata": {},
     "output_type": "display_data"
    }
   ],
   "source": [
    "#y1-- res, y2--conc\n",
    "y.Q.ord1 <- cbind(ind.res.estac, ind.con.estac)\n",
    "y.Q.ord2 <- cbind(ind.con.estac, ind.res.estac)\n",
    "# reduced form VAR(1)\n",
    "var1.ord1 <- VAR(y.Q.ord1, p=1, type=\"const\")\n",
    "var1.ord2 <- VAR(y.Q.ord2, p=1, type=\"const\")\n",
    "\n",
    "# IRF based on Choleski decomposition of var(e)\n",
    "var1.irfs.ord1 <- irf(var1.ord1, n.ahead=10)\n",
    "var1.irfs.ord2 <- irf(var1.ord2, n.ahead=10)\n",
    "par(mfcol=c(2,2), cex=0.6)\n",
    "plot(var1.irfs.ord1, plot.type=\"single\")\n",
    "#plot(var1.irfs.ord2, plot.type=\"single\")\n",
    "\n",
    "# impulse=\"ind.res.estac\", response=\"ind.res.estac\" --- impulse=\"ind.con.estac\", response=\"ind.res.estac\"\n",
    "# impulse=\"ind.res.estac\", response=\"ind.con.estac\" --- impulse=\"ind.con.estac\", response=\"ind.con.estac\""
   ]
  },
  {
   "cell_type": "code",
   "execution_count": 320,
   "metadata": {},
   "outputs": [
    {
     "data": {
      "text/html": [
       "<strong>png:</strong> 2"
      ],
      "text/latex": [
       "\\textbf{png:} 2"
      ],
      "text/markdown": [
       "**png:** 2"
      ],
      "text/plain": [
       "png \n",
       "  2 "
      ]
     },
     "metadata": {},
     "output_type": "display_data"
    }
   ],
   "source": [
    "jpeg(filename=\"var1.jpeg\",   # Nombre del archivo y extension\n",
    "     width = 20,    # Anchura\n",
    "     height = 20,   # Altura\n",
    "     res= 92,       # Resolucion 72ppi es un estandar\n",
    "     units = \"cm\")  # Unidades.\n",
    "\n",
    "\n",
    "aa = as.data.frame(irf(var.1,impulse=\"ind.res.estac\", response=\"ind.con.estac\")$irf)*100\n",
    "aau = as.data.frame(irf(var.1,impulse=\"ind.res.estac\", response=\"ind.con.estac\")$Upper)*100\n",
    "colnames(aau)<-c(\"upper\")\n",
    "aal= as.data.frame(irf(var.1,impulse=\"ind.res.estac\", response=\"ind.con.estac\")$Lower)*100\n",
    "colnames(aal)<-c(\"lower\")\n",
    "\n",
    "x1 = as.data.frame(seq(1:11))\n",
    "colnames(x1)<-c(\"ejex\")\n",
    "plot(x= x1$ejex,y=aa$ind.con.estac,type=\"l\",ylim=c(-1.7,1.5),\n",
    "     main=\"(a)Response of Concentration Index to Resilience Index\", ylab=\"Concentration Index (%)\",xlab=\"Periods \\n95% Bootstrap CI\")\n",
    "abline(h = 0,col=\"red\")\n",
    "lines(x= x1$ejex,y=aau$upper,type=\"l\",col=\"red\",lwd=1,lty=2)\n",
    "lines(x= x1$ejex,y=aal$lower,type=\"l\",col=\"red\",lwd=1,lty=2)\n",
    "\n",
    "dev.off()\n",
    "\n"
   ]
  },
  {
   "cell_type": "code",
   "execution_count": 321,
   "metadata": {},
   "outputs": [
    {
     "data": {
      "text/html": [
       "<strong>png:</strong> 2"
      ],
      "text/latex": [
       "\\textbf{png:} 2"
      ],
      "text/markdown": [
       "**png:** 2"
      ],
      "text/plain": [
       "png \n",
       "  2 "
      ]
     },
     "metadata": {},
     "output_type": "display_data"
    }
   ],
   "source": [
    "jpeg(filename=\"var2.jpeg\",   # Nombre del archivo y extension\n",
    "     width = 20,    # Anchura\n",
    "     height = 20,   # Altura\n",
    "     res= 92,       # Resolucion 72ppi es un estandar\n",
    "     units = \"cm\")  # Unidades.\n",
    "\n",
    "aa1 = as.data.frame(irf(var.1,impulse=\"ind.con.estac\", response=\"ind.con.estac\")$irf)*100\n",
    "aau1 = as.data.frame(irf(var.1,impulse=\"ind.con.estac\", response=\"ind.con.estac\")$Upper)*100\n",
    "colnames(aau1)<-c(\"upper\")\n",
    "aal1= as.data.frame(irf(var.1,impulse=\"ind.con.estac\", response=\"ind.con.estac\")$Lower)*100\n",
    "colnames(aal1)<-c(\"lower\")\n",
    "\n",
    "x1 = as.data.frame(seq(1:11))\n",
    "colnames(x1)<-c(\"ejex\")\n",
    "plot(x= x1$ejex,y=aa1$ind.con.estac,type=\"l\",ylim=c(-0.5,4.5),\n",
    "    main=\"(b)Response of Concentration Index to Concentration Index\", ylab=\"Concentration Index (%)\",xlab=\"Periods \\n95% Bootstrap CI\")\n",
    "abline(h = 0,col=\"red\")\n",
    "lines(x= x1$ejex,y=aau1$upper,type=\"l\",col=\"red\",lwd=1,lty=2)\n",
    "lines(x= x1$ejex,y=aal1$lower,type=\"l\",col=\"red\",lwd=1,lty=2)\n",
    "\n",
    "\n",
    "dev.off()"
   ]
  },
  {
   "cell_type": "code",
   "execution_count": 322,
   "metadata": {},
   "outputs": [
    {
     "data": {
      "text/html": [
       "<strong>png:</strong> 2"
      ],
      "text/latex": [
       "\\textbf{png:} 2"
      ],
      "text/markdown": [
       "**png:** 2"
      ],
      "text/plain": [
       "png \n",
       "  2 "
      ]
     },
     "metadata": {},
     "output_type": "display_data"
    }
   ],
   "source": [
    "jpeg(filename=\"var3.jpeg\",   # Nombre del archivo y extension\n",
    "     width = 20,    # Anchura\n",
    "     height = 20,   # Altura\n",
    "     res= 92,       # Resolucion 72ppi es un estandar\n",
    "     units = \"cm\")  # Unidades.\n",
    "\n",
    "\n",
    "aa11 = round(as.data.frame(irf(var.1,impulse=\"ind.res.estac\", response=\"ind.res.estac\")$irf),15)*100\n",
    "aau11 = as.data.frame(irf(var.1,impulse=\"ind.res.estac\", response=\"ind.res.estac\")$Upper)*100\n",
    "colnames(aau11)<-c(\"upper\")\n",
    "aal11= as.data.frame(irf(var.1,impulse=\"ind.res.estac\", response=\"ind.res.estac\")$Lower)*100\n",
    "colnames(aal11)<-c(\"lower\")\n",
    "\n",
    "x1 = as.data.frame(seq(1:11))\n",
    "colnames(x1)<-c(\"ejex\")\n",
    "plot(x= x1$ejex,y=aa11$ind.res.estac,type=\"l\",ylim=c(-0.05,0.3),\n",
    "    main=\"(c)Response of Resilience Index to Resilience Index\", ylab=\"Resilience Index (%)\",xlab=\"Periods \\n95% Bootstrap CI\")\n",
    "abline(h = 0,col=\"red\")\n",
    "lines(x= x1$ejex,y=aau11$upper,type=\"l\",col=\"red\",lwd=1,lty=2)\n",
    "lines(x= x1$ejex,y=aal11$lower,type=\"l\",col=\"red\",lwd=1,lty=2)\n",
    "\n",
    "\n",
    "dev.off()"
   ]
  },
  {
   "cell_type": "code",
   "execution_count": 323,
   "metadata": {},
   "outputs": [
    {
     "data": {
      "text/html": [
       "<strong>png:</strong> 2"
      ],
      "text/latex": [
       "\\textbf{png:} 2"
      ],
      "text/markdown": [
       "**png:** 2"
      ],
      "text/plain": [
       "png \n",
       "  2 "
      ]
     },
     "metadata": {},
     "output_type": "display_data"
    }
   ],
   "source": [
    "jpeg(filename=\"var4.jpeg\",   # Nombre del archivo y extension\n",
    "     width = 20,    # Anchura\n",
    "     height = 20,   # Altura\n",
    "     res= 92,       # Resolucion 72ppi es un estandar\n",
    "     units = \"cm\")  # Unidades.\n",
    "\n",
    "aa110 = round(as.data.frame(irf(var.1,impulse=\"ind.con.estac\", response=\"ind.res.estac\",ortho=TRUE)$irf),15)*100\n",
    "aau110 = as.data.frame(irf(var.1,impulse=\"ind.con.estac\", response=\"ind.res.estac\")$Upper)*100\n",
    "colnames(aau110)<-c(\"upper\")\n",
    "aal110= as.data.frame(irf(var.1,impulse=\"ind.con.estac\", response=\"ind.res.estac\")$Lower)*100\n",
    "colnames(aal110)<-c(\"lower\")\n",
    "\n",
    "x1 = as.data.frame(seq(1:11))\n",
    "colnames(x1)<-c(\"ejex\")\n",
    "plot(x= x1$ejex,y=aa110$ind.res.estac,type=\"l\",ylim=c(-0.025,0.09),\n",
    "    main=\"(d)Response of Resilience Index to Concentration Index\", ylab=\"Resilience Index (%)\",xlab=\"Periods \\n95% Bootstrap CI\")\n",
    "abline(h = 0,col=\"red\")\n",
    "lines(x= x1$ejex,y=aau110$upper,type=\"l\",col=\"red\",lwd=1,lty=2)\n",
    "lines(x= x1$ejex,y=aal110$lower,type=\"l\",col=\"red\",lwd=1,lty=2)\n",
    "\n",
    "dev.off()"
   ]
  },
  {
   "cell_type": "code",
   "execution_count": 309,
   "metadata": {},
   "outputs": [
    {
     "data": {
      "image/png": "[encoded data removed]",
      "text/plain": [
       "plot without title"
      ]
     },
     "metadata": {},
     "output_type": "display_data"
    }
   ],
   "source": [
    "plot(irf(var.1,impulse=\"ind.res.estac\", response=\"ind.con.estac\"))\n"
   ]
  },
  {
   "cell_type": "code",
   "execution_count": 318,
   "metadata": {},
   "outputs": [
    {
     "data": {
      "text/html": [
       "<strong>png:</strong> 2"
      ],
      "text/latex": [
       "\\textbf{png:} 2"
      ],
      "text/markdown": [
       "**png:** 2"
      ],
      "text/plain": [
       "png \n",
       "  2 "
      ]
     },
     "metadata": {},
     "output_type": "display_data"
    }
   ],
   "source": [
    "jpeg(filename=\"varx.jpeg\",   # Nombre del archivo y extension\n",
    "     width = 30,    # Anchura\n",
    "     height = 30,   # Altura\n",
    "     res= 92,       # Resolucion 72ppi es un estandar\n",
    "     units = \"cm\")  # Unidades.\n",
    "\n",
    "\n",
    "par(mfrow=c(2, 1))\n",
    "\n",
    "plot(irf(var.1,impulse=\"ind.res.estac\", response=\"ind.res.estac\", n.ahead=12),\n",
    "     main=\"Response of Resilience Index to Concentration Index\", ylab=\"Resilience Index\")\n",
    "\n",
    "plot(irf(var.1,impulse=\"ind.con.estac\", response=\"ind.res.estac\", n.ahead=12),\n",
    "     main=\"Response of Resilience Index to Concentration Index\", ylab=\"Resilience Index\")\n",
    "\n",
    "dev.off()"
   ]
  },
  {
   "cell_type": "code",
   "execution_count": 319,
   "metadata": {},
   "outputs": [
    {
     "data": {
      "text/plain": [
       "$Granger\n",
       "\n",
       "\tGranger causality H0: ind.res.estac do not Granger-cause ind.con.estac\n",
       "\n",
       "data:  VAR object var.1\n",
       "F-Test = 2.1371, df1 = 1, df2 = 134, p-value = 0.1461\n",
       "\n",
       "\n",
       "$Instant\n",
       "\n",
       "\tH0: No instantaneous causality between: ind.res.estac and\n",
       "\tind.con.estac\n",
       "\n",
       "data:  VAR object var.1\n",
       "Chi-squared = 0.20627, df = 1, p-value = 0.6497\n",
       "\n"
      ]
     },
     "metadata": {},
     "output_type": "display_data"
    },
    {
     "data": {
      "text/plain": [
       "$Granger\n",
       "\n",
       "\tGranger causality H0: ind.con.estac do not Granger-cause ind.res.estac\n",
       "\n",
       "data:  VAR object var.1\n",
       "F-Test = 1.599, df1 = 1, df2 = 134, p-value = 0.2082\n",
       "\n",
       "\n",
       "$Instant\n",
       "\n",
       "\tH0: No instantaneous causality between: ind.con.estac and\n",
       "\tind.res.estac\n",
       "\n",
       "data:  VAR object var.1\n",
       "Chi-squared = 0.20627, df = 1, p-value = 0.6497\n",
       "\n"
      ]
     },
     "metadata": {},
     "output_type": "display_data"
    }
   ],
   "source": [
    "#Ahora ejecutamos las pruebas de causalidad de Granger para ambas variables.\n",
    "# Granger causality\n",
    "causality(var.1, cause=\"ind.res.estac\")\n",
    "\n",
    "causality(var.1, cause=\"ind.con.estac\")"
   ]
  },
  {
   "cell_type": "code",
   "execution_count": null,
   "metadata": {},
   "outputs": [],
   "source": []
  },
  {
   "cell_type": "code",
   "execution_count": null,
   "metadata": {},
   "outputs": [],
   "source": []
  },
  {
   "cell_type": "code",
   "execution_count": null,
   "metadata": {},
   "outputs": [],
   "source": []
  },
  {
   "cell_type": "code",
   "execution_count": 43,
   "metadata": {},
   "outputs": [],
   "source": [
    "#library(tidyverse)\n",
    "#install.packages(\"lubridate\")\n",
    "#library(lubridate)"
   ]
  }
 ],
 "metadata": {
  "kernelspec": {
   "display_name": "R",
   "language": "R",
   "name": "ir"
  },
  "language_info": {
   "codemirror_mode": "r",
   "file_extension": ".r",
   "mimetype": "text/x-r-source",
   "name": "R",
   "pygments_lexer": "r",
   "version": "3.5.1"
  }
 },
 "nbformat": 4,
 "nbformat_minor": 2
}
