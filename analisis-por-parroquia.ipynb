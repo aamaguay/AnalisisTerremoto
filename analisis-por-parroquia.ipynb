{
 "cells": [
  {
   "cell_type": "code",
   "execution_count": 63,
   "metadata": {},
   "outputs": [],
   "source": [
    "import pandas as pd\n",
    "import seaborn as sns\n",
    "import matplotlib.pyplot as plt\n",
    "import datetime\n",
    "%matplotlib inline"
   ]
  },
  {
   "cell_type": "code",
   "execution_count": 59,
   "metadata": {},
   "outputs": [],
   "source": [
    "df = pd.read_csv('EventosManabi.csv')\n"
   ]
  },
  {
   "cell_type": "code",
   "execution_count": 68,
   "metadata": {},
   "outputs": [],
   "source": [
    "df['FechaEventoTD'] = pd.to_datetime(df['FechaEvento']) + pd.to_timedelta(df.Hora, unit='hr')"
   ]
  },
  {
   "cell_type": "code",
   "execution_count": 71,
   "metadata": {},
   "outputs": [],
   "source": [
    "dfantes = df.loc[df['FechaEvento']<'2016-04-19']\n",
    "dfdespues = df.loc[df['FechaEvento']>'2016-04-19']"
   ]
  },
  {
   "cell_type": "code",
   "execution_count": 72,
   "metadata": {},
   "outputs": [
    {
     "data": {
      "text/html": [
       "<div>\n",
       "<style scoped>\n",
       "    .dataframe tbody tr th:only-of-type {\n",
       "        vertical-align: middle;\n",
       "    }\n",
       "\n",
       "    .dataframe tbody tr th {\n",
       "        vertical-align: top;\n",
       "    }\n",
       "\n",
       "    .dataframe thead th {\n",
       "        text-align: right;\n",
       "    }\n",
       "</style>\n",
       "<table border=\"1\" class=\"dataframe\">\n",
       "  <thead>\n",
       "    <tr style=\"text-align: right;\">\n",
       "      <th></th>\n",
       "      <th>ID</th>\n",
       "      <th>FechaEvento</th>\n",
       "      <th>Hora</th>\n",
       "      <th>BaseCliente</th>\n",
       "      <th>ProvinciaCliente</th>\n",
       "      <th>CantonCliente</th>\n",
       "      <th>CiudadCliente</th>\n",
       "      <th>ParroquiaCliente</th>\n",
       "      <th>LatitudCliente</th>\n",
       "      <th>LongitudCliente</th>\n",
       "      <th>BaseEvento</th>\n",
       "      <th>NombreSitioEvento</th>\n",
       "      <th>ProvinciaEvento</th>\n",
       "      <th>CantonEvento</th>\n",
       "      <th>CiudadEvento</th>\n",
       "      <th>ParroquiaEvento</th>\n",
       "      <th>LatitudEvento</th>\n",
       "      <th>LongitudEvento</th>\n",
       "      <th>CantidadClientes</th>\n",
       "      <th>FechaEventoTD</th>\n",
       "    </tr>\n",
       "  </thead>\n",
       "  <tbody>\n",
       "    <tr>\n",
       "      <th>0</th>\n",
       "      <td>1</td>\n",
       "      <td>2016-04-16</td>\n",
       "      <td>17</td>\n",
       "      <td>50913</td>\n",
       "      <td>MANABI</td>\n",
       "      <td>PORTOVIEJO</td>\n",
       "      <td>PORTOVIEJO</td>\n",
       "      <td>PORTOVIEJO</td>\n",
       "      <td>-1.03767</td>\n",
       "      <td>-80.4680</td>\n",
       "      <td>52064</td>\n",
       "      <td>CDLA_AURORA</td>\n",
       "      <td>MANABI</td>\n",
       "      <td>MANTA</td>\n",
       "      <td>MANTA</td>\n",
       "      <td>MANTA</td>\n",
       "      <td>-0.981686</td>\n",
       "      <td>-80.7053</td>\n",
       "      <td>1</td>\n",
       "      <td>2016-04-16 17:00:00</td>\n",
       "    </tr>\n",
       "    <tr>\n",
       "      <th>3</th>\n",
       "      <td>4</td>\n",
       "      <td>2016-04-16</td>\n",
       "      <td>17</td>\n",
       "      <td>52995</td>\n",
       "      <td>MANABI</td>\n",
       "      <td>PORTOVIEJO</td>\n",
       "      <td>PORTOVIEJO</td>\n",
       "      <td>PORTOVIEJO</td>\n",
       "      <td>-1.04724</td>\n",
       "      <td>-80.4718</td>\n",
       "      <td>48262</td>\n",
       "      <td>CDLA_COMERCIO_PORTOVIEJO</td>\n",
       "      <td>MANABI</td>\n",
       "      <td>PORTOVIEJO</td>\n",
       "      <td>PORTOVIEJO</td>\n",
       "      <td>PORTOVIEJO</td>\n",
       "      <td>-1.054810</td>\n",
       "      <td>-80.4667</td>\n",
       "      <td>1</td>\n",
       "      <td>2016-04-16 17:00:00</td>\n",
       "    </tr>\n",
       "  </tbody>\n",
       "</table>\n",
       "</div>"
      ],
      "text/plain": [
       "   ID FechaEvento  Hora  BaseCliente ProvinciaCliente CantonCliente  \\\n",
       "0   1  2016-04-16    17        50913           MANABI    PORTOVIEJO   \n",
       "3   4  2016-04-16    17        52995           MANABI    PORTOVIEJO   \n",
       "\n",
       "  CiudadCliente ParroquiaCliente  LatitudCliente  LongitudCliente  BaseEvento  \\\n",
       "0    PORTOVIEJO       PORTOVIEJO        -1.03767         -80.4680       52064   \n",
       "3    PORTOVIEJO       PORTOVIEJO        -1.04724         -80.4718       48262   \n",
       "\n",
       "          NombreSitioEvento ProvinciaEvento CantonEvento CiudadEvento  \\\n",
       "0               CDLA_AURORA          MANABI        MANTA        MANTA   \n",
       "3  CDLA_COMERCIO_PORTOVIEJO          MANABI   PORTOVIEJO   PORTOVIEJO   \n",
       "\n",
       "  ParroquiaEvento  LatitudEvento  LongitudEvento  CantidadClientes  \\\n",
       "0           MANTA      -0.981686        -80.7053                 1   \n",
       "3      PORTOVIEJO      -1.054810        -80.4667                 1   \n",
       "\n",
       "        FechaEventoTD  \n",
       "0 2016-04-16 17:00:00  \n",
       "3 2016-04-16 17:00:00  "
      ]
     },
     "execution_count": 72,
     "metadata": {},
     "output_type": "execute_result"
    }
   ],
   "source": [
    "dfantes.head(2)"
   ]
  },
  {
   "cell_type": "code",
   "execution_count": 73,
   "metadata": {},
   "outputs": [],
   "source": [
    "listaParroquiasManabi= list(set(dfantes[\"ParroquiaEvento\"].tolist()))"
   ]
  },
  {
   "cell_type": "code",
   "execution_count": 100,
   "metadata": {},
   "outputs": [],
   "source": [
    "dfz = dfantes.loc[(dfantes[\"ParroquiaEvento\"] == 'PORTOVIEJO') == True ,:]"
   ]
  },
  {
   "cell_type": "code",
   "execution_count": 81,
   "metadata": {},
   "outputs": [],
   "source": [
    "#dfz1= dfantes.groupby(['CantonEvento', 'FechaEventoTD']).size()"
   ]
  },
  {
   "cell_type": "code",
   "execution_count": 101,
   "metadata": {},
   "outputs": [
    {
     "data": {
      "text/plain": [
       "<matplotlib.axes._subplots.AxesSubplot at 0x262b8ee0278>"
      ]
     },
     "execution_count": 101,
     "metadata": {},
     "output_type": "execute_result"
    },
    {
     "data": {
      "image/png": "[encoded data removed]",
      "text/plain": [
       "<Figure size 432x288 with 1 Axes>"
      ]
     },
     "metadata": {
      "needs_background": "light"
     },
     "output_type": "display_data"
    }
   ],
   "source": [
    "dfz.groupby(['FechaEventoTD']).size().plot()"
   ]
  },
  {
   "cell_type": "code",
   "execution_count": 104,
   "metadata": {},
   "outputs": [],
   "source": [
    "portov = dfz.groupby(['FechaEventoTD']).size()"
   ]
  },
  {
   "cell_type": "code",
   "execution_count": 107,
   "metadata": {},
   "outputs": [
    {
     "data": {
      "text/plain": [
       "FechaEventoTD\n",
       "2016-04-15 00:00:00     4434\n",
       "2016-04-15 01:00:00     2883\n",
       "2016-04-15 02:00:00     2398\n",
       "2016-04-15 03:00:00     2290\n",
       "2016-04-15 04:00:00     2309\n",
       "2016-04-15 05:00:00     2660\n",
       "2016-04-15 06:00:00     4526\n",
       "2016-04-15 07:00:00     7085\n",
       "2016-04-15 08:00:00     9063\n",
       "2016-04-15 09:00:00    10605\n",
       "2016-04-15 10:00:00    11448\n",
       "2016-04-15 11:00:00    11752\n",
       "2016-04-15 12:00:00    11706\n",
       "2016-04-15 13:00:00    11066\n",
       "2016-04-15 14:00:00    10709\n",
       "2016-04-15 15:00:00    11084\n",
       "2016-04-15 16:00:00    11472\n",
       "2016-04-15 17:00:00    11553\n",
       "2016-04-15 18:00:00    11289\n",
       "2016-04-15 19:00:00    10265\n",
       "2016-04-15 20:00:00     9586\n",
       "2016-04-15 21:00:00     8706\n",
       "2016-04-15 22:00:00     7633\n",
       "2016-04-15 23:00:00     6240\n",
       "2016-04-16 00:00:00     4766\n",
       "2016-04-16 01:00:00     3869\n",
       "2016-04-16 02:00:00     3368\n",
       "2016-04-16 03:00:00     2892\n",
       "2016-04-16 04:00:00     2600\n",
       "2016-04-16 05:00:00     2661\n",
       "                       ...  \n",
       "2016-04-17 18:00:00     1756\n",
       "2016-04-17 19:00:00     2684\n",
       "2016-04-17 20:00:00     2495\n",
       "2016-04-17 21:00:00     2002\n",
       "2016-04-17 22:00:00     1467\n",
       "2016-04-17 23:00:00      980\n",
       "2016-04-18 00:00:00     4073\n",
       "2016-04-18 01:00:00     3516\n",
       "2016-04-18 02:00:00     2994\n",
       "2016-04-18 03:00:00     2714\n",
       "2016-04-18 04:00:00     2612\n",
       "2016-04-18 05:00:00     3089\n",
       "2016-04-18 06:00:00     5415\n",
       "2016-04-18 07:00:00     7377\n",
       "2016-04-18 08:00:00     8672\n",
       "2016-04-18 09:00:00     5127\n",
       "2016-04-18 10:00:00      698\n",
       "2016-04-18 11:00:00      537\n",
       "2016-04-18 12:00:00     7461\n",
       "2016-04-18 13:00:00     9727\n",
       "2016-04-18 14:00:00     8697\n",
       "2016-04-18 15:00:00     7048\n",
       "2016-04-18 16:00:00     6745\n",
       "2016-04-18 17:00:00     7066\n",
       "2016-04-18 18:00:00     7040\n",
       "2016-04-18 19:00:00     6886\n",
       "2016-04-18 20:00:00     8997\n",
       "2016-04-18 21:00:00     8705\n",
       "2016-04-18 22:00:00     8506\n",
       "2016-04-18 23:00:00     7006\n",
       "Length: 86, dtype: int64"
      ]
     },
     "execution_count": 107,
     "metadata": {},
     "output_type": "execute_result"
    }
   ],
   "source": [
    "portov"
   ]
  },
  {
   "cell_type": "code",
   "execution_count": 106,
   "metadata": {},
   "outputs": [
    {
     "name": "stderr",
     "output_type": "stream",
     "text": [
      "C:\\Users\\User\\Anaconda3\\lib\\site-packages\\ipykernel_launcher.py:1: FutureWarning: The signature of `Series.to_csv` was aligned to that of `DataFrame.to_csv`, and argument 'header' will change its default value from False to True: please pass an explicit value to suppress this warning.\n",
      "  \"\"\"Entry point for launching an IPython kernel.\n"
     ]
    }
   ],
   "source": [
    "portov.to_csv('portov.csv', sep=',',) "
   ]
  },
  {
   "cell_type": "code",
   "execution_count": null,
   "metadata": {},
   "outputs": [],
   "source": []
  },
  {
   "cell_type": "code",
   "execution_count": null,
   "metadata": {},
   "outputs": [],
   "source": []
  },
  {
   "cell_type": "code",
   "execution_count": null,
   "metadata": {},
   "outputs": [],
   "source": []
  },
  {
   "cell_type": "code",
   "execution_count": null,
   "metadata": {},
   "outputs": [],
   "source": []
  },
  {
   "cell_type": "code",
   "execution_count": null,
   "metadata": {},
   "outputs": [],
   "source": []
  }
 ],
 "metadata": {
  "kernelspec": {
   "display_name": "Python 3",
   "language": "python",
   "name": "python3"
  },
  "language_info": {
   "codemirror_mode": {
    "name": "ipython",
    "version": 3
   },
   "file_extension": ".py",
   "mimetype": "text/x-python",
   "name": "python",
   "nbconvert_exporter": "python",
   "pygments_lexer": "ipython3",
   "version": "3.6.8"
  }
 },
 "nbformat": 4,
 "nbformat_minor": 2
}
